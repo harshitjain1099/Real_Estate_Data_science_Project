{
 "cells": [
  {
   "cell_type": "code",
   "execution_count": 1,
   "id": "6aff6957",
   "metadata": {
    "ExecuteTime": {
     "end_time": "2024-09-12T10:46:46.862719Z",
     "start_time": "2024-09-12T10:46:28.307006Z"
    }
   },
   "outputs": [
    {
     "name": "stderr",
     "output_type": "stream",
     "text": [
      "C:\\Users\\HARSHIT JAIN\\anaconda3\\Lib\\site-packages\\pandas\\core\\arrays\\masked.py:60: UserWarning: Pandas requires version '1.3.6' or newer of 'bottleneck' (version '1.3.5' currently installed).\n",
      "  from pandas.core import (\n"
     ]
    }
   ],
   "source": [
    "import numpy as np\n",
    "import pandas as pd\n",
    "\n",
    "from sklearn.model_selection import KFold, cross_val_score\n",
    "from sklearn.linear_model import LinearRegression\n",
    "from sklearn.pipeline import Pipeline\n",
    "from sklearn.preprocessing import OneHotEncoder, StandardScaler, OrdinalEncoder\n",
    "from sklearn.compose import ColumnTransformer\n",
    "from sklearn.svm import SVR\n",
    "\n",
    "from sklearn.model_selection import train_test_split\n",
    "from sklearn.metrics import mean_absolute_error\n",
    "\n",
    "from sklearn.decomposition import PCA"
   ]
  },
  {
   "cell_type": "code",
   "execution_count": 2,
   "id": "aa813371",
   "metadata": {
    "ExecuteTime": {
     "end_time": "2024-09-12T10:46:47.248526Z",
     "start_time": "2024-09-12T10:46:46.865986Z"
    }
   },
   "outputs": [],
   "source": [
    "df = pd.read_csv(r'C:\\Users\\HARSHIT JAIN\\Desktop\\data science projects\\Real_Estate_Data_science_Project\\DATASETS\\gurgaon_properties_post_feature_selection_v2\\gurgaon_properties_post_feature_selection_v2.csv')"
   ]
  },
  {
   "cell_type": "code",
   "execution_count": 3,
   "id": "4b7d19bc",
   "metadata": {
    "ExecuteTime": {
     "end_time": "2024-09-12T10:46:47.409073Z",
     "start_time": "2024-09-12T10:46:47.251523Z"
    }
   },
   "outputs": [
    {
     "data": {
      "text/html": [
       "<div>\n",
       "<style scoped>\n",
       "    .dataframe tbody tr th:only-of-type {\n",
       "        vertical-align: middle;\n",
       "    }\n",
       "\n",
       "    .dataframe tbody tr th {\n",
       "        vertical-align: top;\n",
       "    }\n",
       "\n",
       "    .dataframe thead th {\n",
       "        text-align: right;\n",
       "    }\n",
       "</style>\n",
       "<table border=\"1\" class=\"dataframe\">\n",
       "  <thead>\n",
       "    <tr style=\"text-align: right;\">\n",
       "      <th></th>\n",
       "      <th>property_type</th>\n",
       "      <th>sector</th>\n",
       "      <th>price</th>\n",
       "      <th>bedRoom</th>\n",
       "      <th>bathroom</th>\n",
       "      <th>balcony</th>\n",
       "      <th>agePossession</th>\n",
       "      <th>built_up_area</th>\n",
       "      <th>study room</th>\n",
       "      <th>servant room</th>\n",
       "      <th>store room</th>\n",
       "      <th>pooja room</th>\n",
       "      <th>others</th>\n",
       "      <th>furnishing_type</th>\n",
       "      <th>luxury_category</th>\n",
       "      <th>floor_category</th>\n",
       "    </tr>\n",
       "  </thead>\n",
       "  <tbody>\n",
       "    <tr>\n",
       "      <th>0</th>\n",
       "      <td>falt</td>\n",
       "      <td>sector 54</td>\n",
       "      <td>5.75</td>\n",
       "      <td>3</td>\n",
       "      <td>4</td>\n",
       "      <td>3</td>\n",
       "      <td>Relatively New</td>\n",
       "      <td>2329.0</td>\n",
       "      <td>0</td>\n",
       "      <td>1</td>\n",
       "      <td>0</td>\n",
       "      <td>0</td>\n",
       "      <td>0</td>\n",
       "      <td>2</td>\n",
       "      <td>high</td>\n",
       "      <td>high floor</td>\n",
       "    </tr>\n",
       "    <tr>\n",
       "      <th>1</th>\n",
       "      <td>falt</td>\n",
       "      <td>sector 2</td>\n",
       "      <td>3.35</td>\n",
       "      <td>4</td>\n",
       "      <td>4</td>\n",
       "      <td>3+</td>\n",
       "      <td>New Property</td>\n",
       "      <td>5000.0</td>\n",
       "      <td>1</td>\n",
       "      <td>0</td>\n",
       "      <td>0</td>\n",
       "      <td>0</td>\n",
       "      <td>0</td>\n",
       "      <td>1</td>\n",
       "      <td>medium</td>\n",
       "      <td>low floor</td>\n",
       "    </tr>\n",
       "    <tr>\n",
       "      <th>2</th>\n",
       "      <td>falt</td>\n",
       "      <td>sector 69</td>\n",
       "      <td>1.40</td>\n",
       "      <td>3</td>\n",
       "      <td>3</td>\n",
       "      <td>2</td>\n",
       "      <td>Relatively New</td>\n",
       "      <td>1428.0</td>\n",
       "      <td>0</td>\n",
       "      <td>0</td>\n",
       "      <td>0</td>\n",
       "      <td>1</td>\n",
       "      <td>0</td>\n",
       "      <td>1</td>\n",
       "      <td>medium</td>\n",
       "      <td>medium floor</td>\n",
       "    </tr>\n",
       "    <tr>\n",
       "      <th>3</th>\n",
       "      <td>falt</td>\n",
       "      <td>sector 79</td>\n",
       "      <td>1.70</td>\n",
       "      <td>3</td>\n",
       "      <td>2</td>\n",
       "      <td>3</td>\n",
       "      <td>Relatively New</td>\n",
       "      <td>1570.0</td>\n",
       "      <td>0</td>\n",
       "      <td>0</td>\n",
       "      <td>0</td>\n",
       "      <td>0</td>\n",
       "      <td>0</td>\n",
       "      <td>1</td>\n",
       "      <td>low</td>\n",
       "      <td>medium floor</td>\n",
       "    </tr>\n",
       "    <tr>\n",
       "      <th>4</th>\n",
       "      <td>falt</td>\n",
       "      <td>sector 33</td>\n",
       "      <td>1.35</td>\n",
       "      <td>3</td>\n",
       "      <td>2</td>\n",
       "      <td>3+</td>\n",
       "      <td>New Property</td>\n",
       "      <td>1409.0</td>\n",
       "      <td>0</td>\n",
       "      <td>0</td>\n",
       "      <td>0</td>\n",
       "      <td>0</td>\n",
       "      <td>0</td>\n",
       "      <td>1</td>\n",
       "      <td>low</td>\n",
       "      <td>high floor</td>\n",
       "    </tr>\n",
       "  </tbody>\n",
       "</table>\n",
       "</div>"
      ],
      "text/plain": [
       "  property_type     sector  price  bedRoom  bathroom balcony   agePossession  \\\n",
       "0          falt  sector 54   5.75        3         4       3  Relatively New   \n",
       "1          falt   sector 2   3.35        4         4      3+    New Property   \n",
       "2          falt  sector 69   1.40        3         3       2  Relatively New   \n",
       "3          falt  sector 79   1.70        3         2       3  Relatively New   \n",
       "4          falt  sector 33   1.35        3         2      3+    New Property   \n",
       "\n",
       "   built_up_area  study room  servant room  store room  pooja room  others  \\\n",
       "0         2329.0           0             1           0           0       0   \n",
       "1         5000.0           1             0           0           0       0   \n",
       "2         1428.0           0             0           0           1       0   \n",
       "3         1570.0           0             0           0           0       0   \n",
       "4         1409.0           0             0           0           0       0   \n",
       "\n",
       "   furnishing_type luxury_category floor_category  \n",
       "0                2            high     high floor  \n",
       "1                1          medium      low floor  \n",
       "2                1          medium   medium floor  \n",
       "3                1             low   medium floor  \n",
       "4                1             low     high floor  "
      ]
     },
     "execution_count": 3,
     "metadata": {},
     "output_type": "execute_result"
    }
   ],
   "source": [
    "df.head()"
   ]
  },
  {
   "cell_type": "code",
   "execution_count": 5,
   "id": "cf28a334",
   "metadata": {
    "ExecuteTime": {
     "end_time": "2024-09-12T10:47:18.305636Z",
     "start_time": "2024-09-12T10:47:18.296386Z"
    }
   },
   "outputs": [],
   "source": [
    "df.drop(columns=['study room','pooja room','others'],inplace=True)"
   ]
  },
  {
   "cell_type": "code",
   "execution_count": 6,
   "id": "14907bf1",
   "metadata": {
    "ExecuteTime": {
     "end_time": "2024-09-12T10:47:19.743597Z",
     "start_time": "2024-09-12T10:47:19.718831Z"
    }
   },
   "outputs": [
    {
     "data": {
      "text/html": [
       "<div>\n",
       "<style scoped>\n",
       "    .dataframe tbody tr th:only-of-type {\n",
       "        vertical-align: middle;\n",
       "    }\n",
       "\n",
       "    .dataframe tbody tr th {\n",
       "        vertical-align: top;\n",
       "    }\n",
       "\n",
       "    .dataframe thead th {\n",
       "        text-align: right;\n",
       "    }\n",
       "</style>\n",
       "<table border=\"1\" class=\"dataframe\">\n",
       "  <thead>\n",
       "    <tr style=\"text-align: right;\">\n",
       "      <th></th>\n",
       "      <th>property_type</th>\n",
       "      <th>sector</th>\n",
       "      <th>price</th>\n",
       "      <th>bedRoom</th>\n",
       "      <th>bathroom</th>\n",
       "      <th>balcony</th>\n",
       "      <th>agePossession</th>\n",
       "      <th>built_up_area</th>\n",
       "      <th>servant room</th>\n",
       "      <th>store room</th>\n",
       "      <th>furnishing_type</th>\n",
       "      <th>luxury_category</th>\n",
       "      <th>floor_category</th>\n",
       "    </tr>\n",
       "  </thead>\n",
       "  <tbody>\n",
       "    <tr>\n",
       "      <th>0</th>\n",
       "      <td>falt</td>\n",
       "      <td>sector 54</td>\n",
       "      <td>5.75</td>\n",
       "      <td>3</td>\n",
       "      <td>4</td>\n",
       "      <td>3</td>\n",
       "      <td>Relatively New</td>\n",
       "      <td>2329.0</td>\n",
       "      <td>1</td>\n",
       "      <td>0</td>\n",
       "      <td>2</td>\n",
       "      <td>high</td>\n",
       "      <td>high floor</td>\n",
       "    </tr>\n",
       "    <tr>\n",
       "      <th>1</th>\n",
       "      <td>falt</td>\n",
       "      <td>sector 2</td>\n",
       "      <td>3.35</td>\n",
       "      <td>4</td>\n",
       "      <td>4</td>\n",
       "      <td>3+</td>\n",
       "      <td>New Property</td>\n",
       "      <td>5000.0</td>\n",
       "      <td>0</td>\n",
       "      <td>0</td>\n",
       "      <td>1</td>\n",
       "      <td>medium</td>\n",
       "      <td>low floor</td>\n",
       "    </tr>\n",
       "    <tr>\n",
       "      <th>2</th>\n",
       "      <td>falt</td>\n",
       "      <td>sector 69</td>\n",
       "      <td>1.40</td>\n",
       "      <td>3</td>\n",
       "      <td>3</td>\n",
       "      <td>2</td>\n",
       "      <td>Relatively New</td>\n",
       "      <td>1428.0</td>\n",
       "      <td>0</td>\n",
       "      <td>0</td>\n",
       "      <td>1</td>\n",
       "      <td>medium</td>\n",
       "      <td>medium floor</td>\n",
       "    </tr>\n",
       "    <tr>\n",
       "      <th>3</th>\n",
       "      <td>falt</td>\n",
       "      <td>sector 79</td>\n",
       "      <td>1.70</td>\n",
       "      <td>3</td>\n",
       "      <td>2</td>\n",
       "      <td>3</td>\n",
       "      <td>Relatively New</td>\n",
       "      <td>1570.0</td>\n",
       "      <td>0</td>\n",
       "      <td>0</td>\n",
       "      <td>1</td>\n",
       "      <td>low</td>\n",
       "      <td>medium floor</td>\n",
       "    </tr>\n",
       "    <tr>\n",
       "      <th>4</th>\n",
       "      <td>falt</td>\n",
       "      <td>sector 33</td>\n",
       "      <td>1.35</td>\n",
       "      <td>3</td>\n",
       "      <td>2</td>\n",
       "      <td>3+</td>\n",
       "      <td>New Property</td>\n",
       "      <td>1409.0</td>\n",
       "      <td>0</td>\n",
       "      <td>0</td>\n",
       "      <td>1</td>\n",
       "      <td>low</td>\n",
       "      <td>high floor</td>\n",
       "    </tr>\n",
       "  </tbody>\n",
       "</table>\n",
       "</div>"
      ],
      "text/plain": [
       "  property_type     sector  price  bedRoom  bathroom balcony   agePossession  \\\n",
       "0          falt  sector 54   5.75        3         4       3  Relatively New   \n",
       "1          falt   sector 2   3.35        4         4      3+    New Property   \n",
       "2          falt  sector 69   1.40        3         3       2  Relatively New   \n",
       "3          falt  sector 79   1.70        3         2       3  Relatively New   \n",
       "4          falt  sector 33   1.35        3         2      3+    New Property   \n",
       "\n",
       "   built_up_area  servant room  store room  furnishing_type luxury_category  \\\n",
       "0         2329.0             1           0                2            high   \n",
       "1         5000.0             0           0                1          medium   \n",
       "2         1428.0             0           0                1          medium   \n",
       "3         1570.0             0           0                1             low   \n",
       "4         1409.0             0           0                1             low   \n",
       "\n",
       "  floor_category  \n",
       "0     high floor  \n",
       "1      low floor  \n",
       "2   medium floor  \n",
       "3   medium floor  \n",
       "4     high floor  "
      ]
     },
     "execution_count": 6,
     "metadata": {},
     "output_type": "execute_result"
    }
   ],
   "source": [
    "df.head()"
   ]
  },
  {
   "cell_type": "code",
   "execution_count": 7,
   "id": "c95dda2c",
   "metadata": {
    "ExecuteTime": {
     "end_time": "2024-09-12T10:48:02.136521Z",
     "start_time": "2024-09-12T10:48:01.648649Z"
    }
   },
   "outputs": [],
   "source": [
    "df.to_csv('gurgaon_properties_post_feature_selection_v3.csv', index=False)"
   ]
  },
  {
   "cell_type": "code",
   "execution_count": 8,
   "id": "54895284",
   "metadata": {
    "ExecuteTime": {
     "end_time": "2024-09-12T10:50:41.755728Z",
     "start_time": "2024-09-12T10:50:41.413506Z"
    }
   },
   "outputs": [],
   "source": [
    "df = pd.read_csv(r'C:\\Users\\HARSHIT JAIN\\Desktop\\data science projects\\Real_Estate_Data_science_Project\\DATASETS\\gurgaon_properties_post_feature_selection_v3\\gurgaon_properties_post_feature_selection_v3.csv')"
   ]
  },
  {
   "cell_type": "code",
   "execution_count": 9,
   "id": "db30dd89",
   "metadata": {
    "ExecuteTime": {
     "end_time": "2024-09-12T10:50:50.464378Z",
     "start_time": "2024-09-12T10:50:50.448956Z"
    }
   },
   "outputs": [
    {
     "data": {
      "text/html": [
       "<div>\n",
       "<style scoped>\n",
       "    .dataframe tbody tr th:only-of-type {\n",
       "        vertical-align: middle;\n",
       "    }\n",
       "\n",
       "    .dataframe tbody tr th {\n",
       "        vertical-align: top;\n",
       "    }\n",
       "\n",
       "    .dataframe thead th {\n",
       "        text-align: right;\n",
       "    }\n",
       "</style>\n",
       "<table border=\"1\" class=\"dataframe\">\n",
       "  <thead>\n",
       "    <tr style=\"text-align: right;\">\n",
       "      <th></th>\n",
       "      <th>property_type</th>\n",
       "      <th>sector</th>\n",
       "      <th>price</th>\n",
       "      <th>bedRoom</th>\n",
       "      <th>bathroom</th>\n",
       "      <th>balcony</th>\n",
       "      <th>agePossession</th>\n",
       "      <th>built_up_area</th>\n",
       "      <th>servant room</th>\n",
       "      <th>store room</th>\n",
       "      <th>furnishing_type</th>\n",
       "      <th>luxury_category</th>\n",
       "      <th>floor_category</th>\n",
       "    </tr>\n",
       "  </thead>\n",
       "  <tbody>\n",
       "    <tr>\n",
       "      <th>0</th>\n",
       "      <td>falt</td>\n",
       "      <td>sector 54</td>\n",
       "      <td>5.75</td>\n",
       "      <td>3</td>\n",
       "      <td>4</td>\n",
       "      <td>3</td>\n",
       "      <td>Relatively New</td>\n",
       "      <td>2329.0</td>\n",
       "      <td>1</td>\n",
       "      <td>0</td>\n",
       "      <td>2</td>\n",
       "      <td>high</td>\n",
       "      <td>high floor</td>\n",
       "    </tr>\n",
       "    <tr>\n",
       "      <th>1</th>\n",
       "      <td>falt</td>\n",
       "      <td>sector 2</td>\n",
       "      <td>3.35</td>\n",
       "      <td>4</td>\n",
       "      <td>4</td>\n",
       "      <td>3+</td>\n",
       "      <td>New Property</td>\n",
       "      <td>5000.0</td>\n",
       "      <td>0</td>\n",
       "      <td>0</td>\n",
       "      <td>1</td>\n",
       "      <td>medium</td>\n",
       "      <td>low floor</td>\n",
       "    </tr>\n",
       "    <tr>\n",
       "      <th>2</th>\n",
       "      <td>falt</td>\n",
       "      <td>sector 69</td>\n",
       "      <td>1.40</td>\n",
       "      <td>3</td>\n",
       "      <td>3</td>\n",
       "      <td>2</td>\n",
       "      <td>Relatively New</td>\n",
       "      <td>1428.0</td>\n",
       "      <td>0</td>\n",
       "      <td>0</td>\n",
       "      <td>1</td>\n",
       "      <td>medium</td>\n",
       "      <td>medium floor</td>\n",
       "    </tr>\n",
       "    <tr>\n",
       "      <th>3</th>\n",
       "      <td>falt</td>\n",
       "      <td>sector 79</td>\n",
       "      <td>1.70</td>\n",
       "      <td>3</td>\n",
       "      <td>2</td>\n",
       "      <td>3</td>\n",
       "      <td>Relatively New</td>\n",
       "      <td>1570.0</td>\n",
       "      <td>0</td>\n",
       "      <td>0</td>\n",
       "      <td>1</td>\n",
       "      <td>low</td>\n",
       "      <td>medium floor</td>\n",
       "    </tr>\n",
       "    <tr>\n",
       "      <th>4</th>\n",
       "      <td>falt</td>\n",
       "      <td>sector 33</td>\n",
       "      <td>1.35</td>\n",
       "      <td>3</td>\n",
       "      <td>2</td>\n",
       "      <td>3+</td>\n",
       "      <td>New Property</td>\n",
       "      <td>1409.0</td>\n",
       "      <td>0</td>\n",
       "      <td>0</td>\n",
       "      <td>1</td>\n",
       "      <td>low</td>\n",
       "      <td>high floor</td>\n",
       "    </tr>\n",
       "  </tbody>\n",
       "</table>\n",
       "</div>"
      ],
      "text/plain": [
       "  property_type     sector  price  bedRoom  bathroom balcony   agePossession  \\\n",
       "0          falt  sector 54   5.75        3         4       3  Relatively New   \n",
       "1          falt   sector 2   3.35        4         4      3+    New Property   \n",
       "2          falt  sector 69   1.40        3         3       2  Relatively New   \n",
       "3          falt  sector 79   1.70        3         2       3  Relatively New   \n",
       "4          falt  sector 33   1.35        3         2      3+    New Property   \n",
       "\n",
       "   built_up_area  servant room  store room  furnishing_type luxury_category  \\\n",
       "0         2329.0             1           0                2            high   \n",
       "1         5000.0             0           0                1          medium   \n",
       "2         1428.0             0           0                1          medium   \n",
       "3         1570.0             0           0                1             low   \n",
       "4         1409.0             0           0                1             low   \n",
       "\n",
       "  floor_category  \n",
       "0     high floor  \n",
       "1      low floor  \n",
       "2   medium floor  \n",
       "3   medium floor  \n",
       "4     high floor  "
      ]
     },
     "execution_count": 9,
     "metadata": {},
     "output_type": "execute_result"
    }
   ],
   "source": [
    "df.head()"
   ]
  },
  {
   "cell_type": "code",
   "execution_count": 10,
   "id": "e7f9f3bb",
   "metadata": {
    "ExecuteTime": {
     "end_time": "2024-09-12T10:51:19.249083Z",
     "start_time": "2024-09-12T10:51:19.236913Z"
    }
   },
   "outputs": [
    {
     "data": {
      "text/plain": [
       "furnishing_type\n",
       "1    2364\n",
       "0    1002\n",
       "2     189\n",
       "Name: count, dtype: int64"
      ]
     },
     "execution_count": 10,
     "metadata": {},
     "output_type": "execute_result"
    }
   ],
   "source": [
    "df['furnishing_type'].value_counts()"
   ]
  },
  {
   "cell_type": "code",
   "execution_count": 11,
   "id": "ed9cea15",
   "metadata": {
    "ExecuteTime": {
     "end_time": "2024-09-12T10:51:20.411559Z",
     "start_time": "2024-09-12T10:51:20.398296Z"
    }
   },
   "outputs": [],
   "source": [
    "# 0 -> unfurnished\n",
    "# 1 -> semifurnished\n",
    "# 2 -> furnished\n",
    "df['furnishing_type'] = df['furnishing_type'].replace({0.0:'unfurnished',1.0:'semifurnished',2.0:'furnished'})"
   ]
  },
  {
   "cell_type": "code",
   "execution_count": 49,
   "id": "f1fd8f0c",
   "metadata": {
    "ExecuteTime": {
     "end_time": "2024-09-12T11:38:12.159591Z",
     "start_time": "2024-09-12T11:38:11.925806Z"
    }
   },
   "outputs": [
    {
     "data": {
      "text/plain": [
       "array(['high floor', 'low floor', 'medium floor', None], dtype=object)"
      ]
     },
     "execution_count": 49,
     "metadata": {},
     "output_type": "execute_result"
    }
   ],
   "source": [
    "df['floor_category'].unique()"
   ]
  },
  {
   "cell_type": "code",
   "execution_count": 50,
   "id": "1ac372d4",
   "metadata": {
    "ExecuteTime": {
     "end_time": "2024-09-12T11:38:13.178461Z",
     "start_time": "2024-09-12T11:38:13.064046Z"
    }
   },
   "outputs": [
    {
     "data": {
      "text/plain": [
       "128"
      ]
     },
     "execution_count": 50,
     "metadata": {},
     "output_type": "execute_result"
    }
   ],
   "source": [
    "df['floor_category'].isnull().sum()"
   ]
  },
  {
   "cell_type": "code",
   "execution_count": 51,
   "id": "af5cb62e",
   "metadata": {
    "ExecuteTime": {
     "end_time": "2024-09-12T11:40:52.877873Z",
     "start_time": "2024-09-12T11:40:51.483077Z"
    }
   },
   "outputs": [],
   "source": [
    "def fill_floor_category_mode(df, column_name='floor_category'):\n",
    "    \n",
    "    mode_value = df[column_name].mode()[0]\n",
    "    \n",
    "    df[column_name] = df[column_name].fillna(mode_value)\n",
    "    \n",
    "    return df\n",
    "\n",
    "\n",
    "df = fill_floor_category_mode(df, column_name='floor_category')"
   ]
  },
  {
   "cell_type": "code",
   "execution_count": 52,
   "id": "1482a63d",
   "metadata": {
    "ExecuteTime": {
     "end_time": "2024-09-12T11:41:03.705560Z",
     "start_time": "2024-09-12T11:41:03.697684Z"
    }
   },
   "outputs": [
    {
     "data": {
      "text/plain": [
       "0"
      ]
     },
     "execution_count": 52,
     "metadata": {},
     "output_type": "execute_result"
    }
   ],
   "source": [
    "df['floor_category'].isnull().sum()"
   ]
  },
  {
   "cell_type": "code",
   "execution_count": 53,
   "id": "c1ff19aa",
   "metadata": {
    "ExecuteTime": {
     "end_time": "2024-09-12T11:41:09.829910Z",
     "start_time": "2024-09-12T11:41:09.782270Z"
    }
   },
   "outputs": [
    {
     "data": {
      "text/plain": [
       "array(['high floor', 'low floor', 'medium floor'], dtype=object)"
      ]
     },
     "execution_count": 53,
     "metadata": {},
     "output_type": "execute_result"
    }
   ],
   "source": [
    "df['floor_category'].unique()"
   ]
  },
  {
   "cell_type": "code",
   "execution_count": 56,
   "id": "64c216c5",
   "metadata": {
    "ExecuteTime": {
     "end_time": "2024-09-12T11:42:47.325489Z",
     "start_time": "2024-09-12T11:42:47.123831Z"
    }
   },
   "outputs": [],
   "source": [
    "df.to_csv('gurgaon_properties_post_feature_selection_v4.csv', index=False)"
   ]
  },
  {
   "cell_type": "code",
   "execution_count": 54,
   "id": "cc03060f",
   "metadata": {
    "ExecuteTime": {
     "end_time": "2024-09-12T11:41:27.615505Z",
     "start_time": "2024-09-12T11:41:26.443925Z"
    }
   },
   "outputs": [
    {
     "data": {
      "text/html": [
       "<div>\n",
       "<style scoped>\n",
       "    .dataframe tbody tr th:only-of-type {\n",
       "        vertical-align: middle;\n",
       "    }\n",
       "\n",
       "    .dataframe tbody tr th {\n",
       "        vertical-align: top;\n",
       "    }\n",
       "\n",
       "    .dataframe thead th {\n",
       "        text-align: right;\n",
       "    }\n",
       "</style>\n",
       "<table border=\"1\" class=\"dataframe\">\n",
       "  <thead>\n",
       "    <tr style=\"text-align: right;\">\n",
       "      <th></th>\n",
       "      <th>property_type</th>\n",
       "      <th>sector</th>\n",
       "      <th>price</th>\n",
       "      <th>bedRoom</th>\n",
       "      <th>bathroom</th>\n",
       "      <th>balcony</th>\n",
       "      <th>agePossession</th>\n",
       "      <th>built_up_area</th>\n",
       "      <th>servant room</th>\n",
       "      <th>store room</th>\n",
       "      <th>furnishing_type</th>\n",
       "      <th>luxury_category</th>\n",
       "      <th>floor_category</th>\n",
       "    </tr>\n",
       "  </thead>\n",
       "  <tbody>\n",
       "    <tr>\n",
       "      <th>0</th>\n",
       "      <td>falt</td>\n",
       "      <td>sector 54</td>\n",
       "      <td>5.75</td>\n",
       "      <td>3</td>\n",
       "      <td>4</td>\n",
       "      <td>3</td>\n",
       "      <td>Relatively New</td>\n",
       "      <td>2329.0</td>\n",
       "      <td>1</td>\n",
       "      <td>0</td>\n",
       "      <td>furnished</td>\n",
       "      <td>high</td>\n",
       "      <td>high floor</td>\n",
       "    </tr>\n",
       "    <tr>\n",
       "      <th>1</th>\n",
       "      <td>falt</td>\n",
       "      <td>sector 2</td>\n",
       "      <td>3.35</td>\n",
       "      <td>4</td>\n",
       "      <td>4</td>\n",
       "      <td>3+</td>\n",
       "      <td>New Property</td>\n",
       "      <td>5000.0</td>\n",
       "      <td>0</td>\n",
       "      <td>0</td>\n",
       "      <td>semifurnished</td>\n",
       "      <td>medium</td>\n",
       "      <td>low floor</td>\n",
       "    </tr>\n",
       "    <tr>\n",
       "      <th>2</th>\n",
       "      <td>falt</td>\n",
       "      <td>sector 69</td>\n",
       "      <td>1.40</td>\n",
       "      <td>3</td>\n",
       "      <td>3</td>\n",
       "      <td>2</td>\n",
       "      <td>Relatively New</td>\n",
       "      <td>1428.0</td>\n",
       "      <td>0</td>\n",
       "      <td>0</td>\n",
       "      <td>semifurnished</td>\n",
       "      <td>medium</td>\n",
       "      <td>medium floor</td>\n",
       "    </tr>\n",
       "    <tr>\n",
       "      <th>3</th>\n",
       "      <td>falt</td>\n",
       "      <td>sector 79</td>\n",
       "      <td>1.70</td>\n",
       "      <td>3</td>\n",
       "      <td>2</td>\n",
       "      <td>3</td>\n",
       "      <td>Relatively New</td>\n",
       "      <td>1570.0</td>\n",
       "      <td>0</td>\n",
       "      <td>0</td>\n",
       "      <td>semifurnished</td>\n",
       "      <td>low</td>\n",
       "      <td>medium floor</td>\n",
       "    </tr>\n",
       "    <tr>\n",
       "      <th>4</th>\n",
       "      <td>falt</td>\n",
       "      <td>sector 33</td>\n",
       "      <td>1.35</td>\n",
       "      <td>3</td>\n",
       "      <td>2</td>\n",
       "      <td>3+</td>\n",
       "      <td>New Property</td>\n",
       "      <td>1409.0</td>\n",
       "      <td>0</td>\n",
       "      <td>0</td>\n",
       "      <td>semifurnished</td>\n",
       "      <td>low</td>\n",
       "      <td>high floor</td>\n",
       "    </tr>\n",
       "  </tbody>\n",
       "</table>\n",
       "</div>"
      ],
      "text/plain": [
       "  property_type     sector  price  bedRoom  bathroom balcony   agePossession  \\\n",
       "0          falt  sector 54   5.75        3         4       3  Relatively New   \n",
       "1          falt   sector 2   3.35        4         4      3+    New Property   \n",
       "2          falt  sector 69   1.40        3         3       2  Relatively New   \n",
       "3          falt  sector 79   1.70        3         2       3  Relatively New   \n",
       "4          falt  sector 33   1.35        3         2      3+    New Property   \n",
       "\n",
       "   built_up_area  servant room  store room furnishing_type luxury_category  \\\n",
       "0         2329.0             1           0       furnished            high   \n",
       "1         5000.0             0           0   semifurnished          medium   \n",
       "2         1428.0             0           0   semifurnished          medium   \n",
       "3         1570.0             0           0   semifurnished             low   \n",
       "4         1409.0             0           0   semifurnished             low   \n",
       "\n",
       "  floor_category  \n",
       "0     high floor  \n",
       "1      low floor  \n",
       "2   medium floor  \n",
       "3   medium floor  \n",
       "4     high floor  "
      ]
     },
     "execution_count": 54,
     "metadata": {},
     "output_type": "execute_result"
    }
   ],
   "source": [
    "df.head()"
   ]
  },
  {
   "cell_type": "code",
   "execution_count": null,
   "id": "578416d4",
   "metadata": {},
   "outputs": [],
   "source": []
  }
 ],
 "metadata": {
  "kernelspec": {
   "display_name": "Python 3 (ipykernel)",
   "language": "python",
   "name": "python3"
  },
  "language_info": {
   "codemirror_mode": {
    "name": "ipython",
    "version": 3
   },
   "file_extension": ".py",
   "mimetype": "text/x-python",
   "name": "python",
   "nbconvert_exporter": "python",
   "pygments_lexer": "ipython3",
   "version": "3.11.5"
  },
  "toc": {
   "base_numbering": 1,
   "nav_menu": {},
   "number_sections": true,
   "sideBar": true,
   "skip_h1_title": false,
   "title_cell": "Table of Contents",
   "title_sidebar": "Contents",
   "toc_cell": false,
   "toc_position": {},
   "toc_section_display": true,
   "toc_window_display": false
  }
 },
 "nbformat": 4,
 "nbformat_minor": 5
}

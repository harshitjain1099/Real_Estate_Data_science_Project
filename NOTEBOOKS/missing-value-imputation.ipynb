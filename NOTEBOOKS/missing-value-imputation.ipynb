{
 "cells": [
  {
   "cell_type": "code",
   "execution_count": 1,
   "id": "c5014006",
   "metadata": {
    "ExecuteTime": {
     "end_time": "2024-09-10T12:32:20.570554Z",
     "start_time": "2024-09-10T12:31:32.215699Z"
    }
   },
   "outputs": [
    {
     "name": "stderr",
     "output_type": "stream",
     "text": [
      "C:\\Users\\HARSHIT JAIN\\anaconda3\\Lib\\site-packages\\pandas\\core\\arrays\\masked.py:60: UserWarning: Pandas requires version '1.3.6' or newer of 'bottleneck' (version '1.3.5' currently installed).\n",
      "  from pandas.core import (\n"
     ]
    }
   ],
   "source": [
    "import numpy as np\n",
    "import pandas as pd\n",
    "import matplotlib.pyplot as plt\n",
    "import seaborn as sns"
   ]
  },
  {
   "cell_type": "code",
   "execution_count": 2,
   "id": "8937a9f9",
   "metadata": {
    "ExecuteTime": {
     "end_time": "2024-09-10T12:32:20.624977Z",
     "start_time": "2024-09-10T12:32:20.580801Z"
    }
   },
   "outputs": [],
   "source": [
    "pd.set_option('display.max_columns', None)"
   ]
  },
  {
   "cell_type": "code",
   "execution_count": 3,
   "id": "ceffb4ae",
   "metadata": {
    "ExecuteTime": {
     "end_time": "2024-09-10T12:32:21.266661Z",
     "start_time": "2024-09-10T12:32:20.632984Z"
    }
   },
   "outputs": [],
   "source": [
    "df = pd.read_csv(r'C:\\Users\\HARSHIT JAIN\\Desktop\\data science projects\\Real_Estate_Data_science_Project\\DATASETS\\outlier_treated\\gurgaon_properties_outlier-treated.csv')"
   ]
  },
  {
   "cell_type": "code",
   "execution_count": 4,
   "id": "7c6b2e03",
   "metadata": {
    "ExecuteTime": {
     "end_time": "2024-09-10T12:32:21.610589Z",
     "start_time": "2024-09-10T12:32:21.279861Z"
    }
   },
   "outputs": [
    {
     "data": {
      "text/html": [
       "<div>\n",
       "<style scoped>\n",
       "    .dataframe tbody tr th:only-of-type {\n",
       "        vertical-align: middle;\n",
       "    }\n",
       "\n",
       "    .dataframe tbody tr th {\n",
       "        vertical-align: top;\n",
       "    }\n",
       "\n",
       "    .dataframe thead th {\n",
       "        text-align: right;\n",
       "    }\n",
       "</style>\n",
       "<table border=\"1\" class=\"dataframe\">\n",
       "  <thead>\n",
       "    <tr style=\"text-align: right;\">\n",
       "      <th></th>\n",
       "      <th>property_type</th>\n",
       "      <th>society</th>\n",
       "      <th>sector</th>\n",
       "      <th>price</th>\n",
       "      <th>price_per_sqrt</th>\n",
       "      <th>area</th>\n",
       "      <th>areaWithType</th>\n",
       "      <th>bedRoom</th>\n",
       "      <th>bathroom</th>\n",
       "      <th>balcony</th>\n",
       "      <th>floorNum</th>\n",
       "      <th>facing</th>\n",
       "      <th>agePossession</th>\n",
       "      <th>super_built_up_area</th>\n",
       "      <th>built_up_area</th>\n",
       "      <th>carpet_area</th>\n",
       "      <th>study room</th>\n",
       "      <th>servant room</th>\n",
       "      <th>store room</th>\n",
       "      <th>pooja room</th>\n",
       "      <th>others</th>\n",
       "      <th>furnishing_type</th>\n",
       "      <th>luxury_score</th>\n",
       "      <th>price_per_sqft</th>\n",
       "      <th>aera_room_ratio</th>\n",
       "    </tr>\n",
       "  </thead>\n",
       "  <tbody>\n",
       "    <tr>\n",
       "      <th>0</th>\n",
       "      <td>falt</td>\n",
       "      <td>dlf park place</td>\n",
       "      <td>sector 54</td>\n",
       "      <td>5.75</td>\n",
       "      <td>24689.0</td>\n",
       "      <td>2329.0</td>\n",
       "      <td>Super Built up area 2329(216.37 sq.m.)Built Up...</td>\n",
       "      <td>3</td>\n",
       "      <td>4</td>\n",
       "      <td>3</td>\n",
       "      <td>12.0</td>\n",
       "      <td>North-East</td>\n",
       "      <td>Relatively New</td>\n",
       "      <td>2329.0</td>\n",
       "      <td>1900.0</td>\n",
       "      <td>1700.0</td>\n",
       "      <td>0</td>\n",
       "      <td>1</td>\n",
       "      <td>0</td>\n",
       "      <td>0</td>\n",
       "      <td>0</td>\n",
       "      <td>2</td>\n",
       "      <td>174</td>\n",
       "      <td>24689.0</td>\n",
       "      <td>776.333333</td>\n",
       "    </tr>\n",
       "    <tr>\n",
       "      <th>1</th>\n",
       "      <td>falt</td>\n",
       "      <td>palam vihar society</td>\n",
       "      <td>sector 2</td>\n",
       "      <td>3.35</td>\n",
       "      <td>7444.0</td>\n",
       "      <td>4500.0</td>\n",
       "      <td>Carpet area: 4500 (418.06 sq.m.)</td>\n",
       "      <td>4</td>\n",
       "      <td>4</td>\n",
       "      <td>3+</td>\n",
       "      <td>2.0</td>\n",
       "      <td>NaN</td>\n",
       "      <td>New Property</td>\n",
       "      <td>NaN</td>\n",
       "      <td>NaN</td>\n",
       "      <td>4500.0</td>\n",
       "      <td>1</td>\n",
       "      <td>0</td>\n",
       "      <td>0</td>\n",
       "      <td>0</td>\n",
       "      <td>0</td>\n",
       "      <td>1</td>\n",
       "      <td>66</td>\n",
       "      <td>7444.0</td>\n",
       "      <td>1125.000000</td>\n",
       "    </tr>\n",
       "    <tr>\n",
       "      <th>2</th>\n",
       "      <td>falt</td>\n",
       "      <td>tulip violet</td>\n",
       "      <td>sector 69</td>\n",
       "      <td>1.40</td>\n",
       "      <td>8856.0</td>\n",
       "      <td>1581.0</td>\n",
       "      <td>Super Built up area 1578(146.6 sq.m.)</td>\n",
       "      <td>3</td>\n",
       "      <td>3</td>\n",
       "      <td>2</td>\n",
       "      <td>9.0</td>\n",
       "      <td>West</td>\n",
       "      <td>Relatively New</td>\n",
       "      <td>1578.0</td>\n",
       "      <td>NaN</td>\n",
       "      <td>NaN</td>\n",
       "      <td>0</td>\n",
       "      <td>0</td>\n",
       "      <td>0</td>\n",
       "      <td>1</td>\n",
       "      <td>0</td>\n",
       "      <td>1</td>\n",
       "      <td>120</td>\n",
       "      <td>8855.0</td>\n",
       "      <td>527.000000</td>\n",
       "    </tr>\n",
       "    <tr>\n",
       "      <th>3</th>\n",
       "      <td>falt</td>\n",
       "      <td>m3m golf hills phase 1</td>\n",
       "      <td>sector 79</td>\n",
       "      <td>1.70</td>\n",
       "      <td>10828.0</td>\n",
       "      <td>1570.0</td>\n",
       "      <td>Built Up area: 1570 (145.86 sq.m.)Carpet area:...</td>\n",
       "      <td>3</td>\n",
       "      <td>2</td>\n",
       "      <td>3</td>\n",
       "      <td>10.0</td>\n",
       "      <td>NaN</td>\n",
       "      <td>Undefined</td>\n",
       "      <td>NaN</td>\n",
       "      <td>1570.0</td>\n",
       "      <td>1099.0</td>\n",
       "      <td>0</td>\n",
       "      <td>0</td>\n",
       "      <td>0</td>\n",
       "      <td>0</td>\n",
       "      <td>0</td>\n",
       "      <td>1</td>\n",
       "      <td>0</td>\n",
       "      <td>10828.0</td>\n",
       "      <td>523.333333</td>\n",
       "    </tr>\n",
       "    <tr>\n",
       "      <th>4</th>\n",
       "      <td>falt</td>\n",
       "      <td>godrej nature plus</td>\n",
       "      <td>sector 33</td>\n",
       "      <td>1.35</td>\n",
       "      <td>8670.0</td>\n",
       "      <td>1557.0</td>\n",
       "      <td>Super Built up area 1557(144.65 sq.m.)</td>\n",
       "      <td>3</td>\n",
       "      <td>2</td>\n",
       "      <td>3+</td>\n",
       "      <td>17.0</td>\n",
       "      <td>NaN</td>\n",
       "      <td>New Property</td>\n",
       "      <td>1557.0</td>\n",
       "      <td>NaN</td>\n",
       "      <td>NaN</td>\n",
       "      <td>0</td>\n",
       "      <td>0</td>\n",
       "      <td>0</td>\n",
       "      <td>0</td>\n",
       "      <td>0</td>\n",
       "      <td>1</td>\n",
       "      <td>38</td>\n",
       "      <td>8671.0</td>\n",
       "      <td>519.000000</td>\n",
       "    </tr>\n",
       "  </tbody>\n",
       "</table>\n",
       "</div>"
      ],
      "text/plain": [
       "  property_type                 society     sector  price  price_per_sqrt  \\\n",
       "0          falt          dlf park place  sector 54   5.75         24689.0   \n",
       "1          falt     palam vihar society   sector 2   3.35          7444.0   \n",
       "2          falt            tulip violet  sector 69   1.40          8856.0   \n",
       "3          falt  m3m golf hills phase 1  sector 79   1.70         10828.0   \n",
       "4          falt      godrej nature plus  sector 33   1.35          8670.0   \n",
       "\n",
       "     area                                       areaWithType  bedRoom  \\\n",
       "0  2329.0  Super Built up area 2329(216.37 sq.m.)Built Up...        3   \n",
       "1  4500.0                   Carpet area: 4500 (418.06 sq.m.)        4   \n",
       "2  1581.0              Super Built up area 1578(146.6 sq.m.)        3   \n",
       "3  1570.0  Built Up area: 1570 (145.86 sq.m.)Carpet area:...        3   \n",
       "4  1557.0             Super Built up area 1557(144.65 sq.m.)        3   \n",
       "\n",
       "   bathroom balcony  floorNum      facing   agePossession  \\\n",
       "0         4       3      12.0  North-East  Relatively New   \n",
       "1         4      3+       2.0         NaN    New Property   \n",
       "2         3       2       9.0        West  Relatively New   \n",
       "3         2       3      10.0         NaN       Undefined   \n",
       "4         2      3+      17.0         NaN    New Property   \n",
       "\n",
       "   super_built_up_area  built_up_area  carpet_area  study room  servant room  \\\n",
       "0               2329.0         1900.0       1700.0           0             1   \n",
       "1                  NaN            NaN       4500.0           1             0   \n",
       "2               1578.0            NaN          NaN           0             0   \n",
       "3                  NaN         1570.0       1099.0           0             0   \n",
       "4               1557.0            NaN          NaN           0             0   \n",
       "\n",
       "   store room  pooja room  others  furnishing_type  luxury_score  \\\n",
       "0           0           0       0                2           174   \n",
       "1           0           0       0                1            66   \n",
       "2           0           1       0                1           120   \n",
       "3           0           0       0                1             0   \n",
       "4           0           0       0                1            38   \n",
       "\n",
       "   price_per_sqft  aera_room_ratio  \n",
       "0         24689.0       776.333333  \n",
       "1          7444.0      1125.000000  \n",
       "2          8855.0       527.000000  \n",
       "3         10828.0       523.333333  \n",
       "4          8671.0       519.000000  "
      ]
     },
     "execution_count": 4,
     "metadata": {},
     "output_type": "execute_result"
    }
   ],
   "source": [
    "df.head()"
   ]
  },
  {
   "cell_type": "code",
   "execution_count": 5,
   "id": "acf74488",
   "metadata": {
    "ExecuteTime": {
     "end_time": "2024-09-10T12:32:21.634765Z",
     "start_time": "2024-09-10T12:32:21.619628Z"
    }
   },
   "outputs": [
    {
     "data": {
      "text/plain": [
       "property_type             0\n",
       "society                   1\n",
       "sector                    0\n",
       "price                     0\n",
       "price_per_sqrt            0\n",
       "area                      0\n",
       "areaWithType              0\n",
       "bedRoom                   0\n",
       "bathroom                  0\n",
       "balcony                   0\n",
       "floorNum                 17\n",
       "facing                 1012\n",
       "agePossession             0\n",
       "super_built_up_area    1682\n",
       "built_up_area          1969\n",
       "carpet_area            1714\n",
       "study room                0\n",
       "servant room              0\n",
       "store room                0\n",
       "pooja room                0\n",
       "others                    0\n",
       "furnishing_type           0\n",
       "luxury_score              0\n",
       "price_per_sqft            0\n",
       "aera_room_ratio           0\n",
       "dtype: int64"
      ]
     },
     "execution_count": 5,
     "metadata": {},
     "output_type": "execute_result"
    }
   ],
   "source": [
    "df.isnull().sum()"
   ]
  },
  {
   "cell_type": "markdown",
   "id": "16aff986",
   "metadata": {},
   "source": [
    "# built_up_area"
   ]
  },
  {
   "cell_type": "code",
   "execution_count": 6,
   "id": "a0d3ff9c",
   "metadata": {
    "ExecuteTime": {
     "end_time": "2024-09-10T12:32:24.619609Z",
     "start_time": "2024-09-10T12:32:21.639815Z"
    }
   },
   "outputs": [
    {
     "data": {
      "text/plain": [
       "<Axes: xlabel='built_up_area', ylabel='super_built_up_area'>"
      ]
     },
     "execution_count": 6,
     "metadata": {},
     "output_type": "execute_result"
    },
    {
     "data": {
      "image/png": "[encoded data removed]",
      "text/plain": [
       "<Figure size 640x480 with 1 Axes>"
      ]
     },
     "metadata": {},
     "output_type": "display_data"
    }
   ],
   "source": [
    "sns.scatterplot(x=df['built_up_area'],y=df['super_built_up_area'])"
   ]
  },
  {
   "cell_type": "code",
   "execution_count": 7,
   "id": "cba92789",
   "metadata": {
    "ExecuteTime": {
     "end_time": "2024-09-10T12:32:25.392220Z",
     "start_time": "2024-09-10T12:32:24.643552Z"
    }
   },
   "outputs": [
    {
     "data": {
      "text/plain": [
       "<Axes: xlabel='built_up_area', ylabel='carpet_area'>"
      ]
     },
     "execution_count": 7,
     "metadata": {},
     "output_type": "execute_result"
    },
    {
     "data": {
      "image/png": "[encoded data removed]",
      "text/plain": [
       "<Figure size 640x480 with 1 Axes>"
      ]
     },
     "metadata": {},
     "output_type": "display_data"
    }
   ],
   "source": [
    "sns.scatterplot(x=df['built_up_area'],y=df['carpet_area'])"
   ]
  },
  {
   "cell_type": "code",
   "execution_count": 8,
   "id": "169eb6c2",
   "metadata": {
    "ExecuteTime": {
     "end_time": "2024-09-10T12:32:25.416222Z",
     "start_time": "2024-09-10T12:32:25.402199Z"
    }
   },
   "outputs": [
    {
     "data": {
      "text/plain": [
       "0       False\n",
       "1       False\n",
       "2       False\n",
       "3       False\n",
       "4       False\n",
       "        ...  \n",
       "3551    False\n",
       "3552    False\n",
       "3553    False\n",
       "3554    False\n",
       "3555    False\n",
       "Length: 3556, dtype: bool"
      ]
     },
     "execution_count": 8,
     "metadata": {},
     "output_type": "execute_result"
    }
   ],
   "source": [
    "((df['super_built_up_area'].isnull())&(df['built_up_area'].isnull())&(df['carpet_area'].isnull()))"
   ]
  },
  {
   "cell_type": "code",
   "execution_count": 9,
   "id": "727d4e66",
   "metadata": {
    "ExecuteTime": {
     "end_time": "2024-09-10T12:32:25.612720Z",
     "start_time": "2024-09-10T12:32:25.425204Z"
    }
   },
   "outputs": [],
   "source": [
    "all_present_df = df[~((df['super_built_up_area'].isnull()) | (df['built_up_area'].isnull()) | (df['carpet_area'].isnull()))]"
   ]
  },
  {
   "cell_type": "code",
   "execution_count": 10,
   "id": "aaf5eae0",
   "metadata": {
    "ExecuteTime": {
     "end_time": "2024-09-10T12:32:25.708920Z",
     "start_time": "2024-09-10T12:32:25.620845Z"
    }
   },
   "outputs": [
    {
     "data": {
      "text/plain": [
       "(531, 25)"
      ]
     },
     "execution_count": 10,
     "metadata": {},
     "output_type": "execute_result"
    }
   ],
   "source": [
    "all_present_df.shape"
   ]
  },
  {
   "cell_type": "code",
   "execution_count": 11,
   "id": "8fc4072f",
   "metadata": {
    "ExecuteTime": {
     "end_time": "2024-09-10T12:32:25.836524Z",
     "start_time": "2024-09-10T12:32:25.743832Z"
    }
   },
   "outputs": [],
   "source": [
    "super_to_built_up_area_ratio = (all_present_df['super_built_up_area']/all_present_df['built_up_area']).median()"
   ]
  },
  {
   "cell_type": "code",
   "execution_count": 12,
   "id": "7a75dd3d",
   "metadata": {
    "ExecuteTime": {
     "end_time": "2024-09-10T12:32:25.946764Z",
     "start_time": "2024-09-10T12:32:25.848499Z"
    }
   },
   "outputs": [],
   "source": [
    "carpet_to_built_up_area_ratio = (all_present_df['carpet_area']/all_present_df['built_up_area']).median()"
   ]
  },
  {
   "cell_type": "code",
   "execution_count": 13,
   "id": "d339680f",
   "metadata": {
    "ExecuteTime": {
     "end_time": "2024-09-10T12:32:26.115549Z",
     "start_time": "2024-09-10T12:32:25.965490Z"
    }
   },
   "outputs": [
    {
     "data": {
      "text/plain": [
       "1.105263157894737"
      ]
     },
     "execution_count": 13,
     "metadata": {},
     "output_type": "execute_result"
    }
   ],
   "source": [
    "super_to_built_up_area_ratio"
   ]
  },
  {
   "cell_type": "code",
   "execution_count": 14,
   "id": "837b1d9f",
   "metadata": {
    "ExecuteTime": {
     "end_time": "2024-09-10T12:32:26.261767Z",
     "start_time": "2024-09-10T12:32:26.124530Z"
    }
   },
   "outputs": [
    {
     "data": {
      "text/plain": [
       "0.9"
      ]
     },
     "execution_count": 14,
     "metadata": {},
     "output_type": "execute_result"
    }
   ],
   "source": [
    "carpet_to_built_up_area_ratio"
   ]
  },
  {
   "cell_type": "code",
   "execution_count": 15,
   "id": "5e734996",
   "metadata": {
    "ExecuteTime": {
     "end_time": "2024-09-10T12:32:26.389892Z",
     "start_time": "2024-09-10T12:32:26.277730Z"
    }
   },
   "outputs": [],
   "source": [
    "# both present built up null\n",
    "sbc_df = df[~(df['super_built_up_area'].isnull()) & (df['built_up_area'].isnull()) & ~(df['carpet_area'].isnull())]"
   ]
  },
  {
   "cell_type": "code",
   "execution_count": 16,
   "id": "e6ed610b",
   "metadata": {
    "ExecuteTime": {
     "end_time": "2024-09-10T12:32:26.574310Z",
     "start_time": "2024-09-10T12:32:26.414842Z"
    }
   },
   "outputs": [
    {
     "data": {
      "text/html": [
       "<div>\n",
       "<style scoped>\n",
       "    .dataframe tbody tr th:only-of-type {\n",
       "        vertical-align: middle;\n",
       "    }\n",
       "\n",
       "    .dataframe tbody tr th {\n",
       "        vertical-align: top;\n",
       "    }\n",
       "\n",
       "    .dataframe thead th {\n",
       "        text-align: right;\n",
       "    }\n",
       "</style>\n",
       "<table border=\"1\" class=\"dataframe\">\n",
       "  <thead>\n",
       "    <tr style=\"text-align: right;\">\n",
       "      <th></th>\n",
       "      <th>property_type</th>\n",
       "      <th>society</th>\n",
       "      <th>sector</th>\n",
       "      <th>price</th>\n",
       "      <th>price_per_sqrt</th>\n",
       "      <th>area</th>\n",
       "      <th>areaWithType</th>\n",
       "      <th>bedRoom</th>\n",
       "      <th>bathroom</th>\n",
       "      <th>balcony</th>\n",
       "      <th>floorNum</th>\n",
       "      <th>facing</th>\n",
       "      <th>agePossession</th>\n",
       "      <th>super_built_up_area</th>\n",
       "      <th>built_up_area</th>\n",
       "      <th>carpet_area</th>\n",
       "      <th>study room</th>\n",
       "      <th>servant room</th>\n",
       "      <th>store room</th>\n",
       "      <th>pooja room</th>\n",
       "      <th>others</th>\n",
       "      <th>furnishing_type</th>\n",
       "      <th>luxury_score</th>\n",
       "      <th>price_per_sqft</th>\n",
       "      <th>aera_room_ratio</th>\n",
       "    </tr>\n",
       "  </thead>\n",
       "  <tbody>\n",
       "    <tr>\n",
       "      <th>9</th>\n",
       "      <td>falt</td>\n",
       "      <td>signature global synera</td>\n",
       "      <td>sector 81</td>\n",
       "      <td>0.48</td>\n",
       "      <td>8450.0</td>\n",
       "      <td>568.0</td>\n",
       "      <td>Super Built up area 657(61.04 sq.m.)Carpet are...</td>\n",
       "      <td>2</td>\n",
       "      <td>2</td>\n",
       "      <td>1</td>\n",
       "      <td>7.0</td>\n",
       "      <td>South-East</td>\n",
       "      <td>Relatively New</td>\n",
       "      <td>657.0</td>\n",
       "      <td>NaN</td>\n",
       "      <td>568.00</td>\n",
       "      <td>0</td>\n",
       "      <td>0</td>\n",
       "      <td>0</td>\n",
       "      <td>0</td>\n",
       "      <td>0</td>\n",
       "      <td>0</td>\n",
       "      <td>70</td>\n",
       "      <td>8451.0</td>\n",
       "      <td>284.000000</td>\n",
       "    </tr>\n",
       "    <tr>\n",
       "      <th>12</th>\n",
       "      <td>falt</td>\n",
       "      <td>shyam apartment</td>\n",
       "      <td>sector 3</td>\n",
       "      <td>0.26</td>\n",
       "      <td>3714.0</td>\n",
       "      <td>700.0</td>\n",
       "      <td>Super Built up area 700(65.03 sq.m.)Carpet are...</td>\n",
       "      <td>2</td>\n",
       "      <td>1</td>\n",
       "      <td>2</td>\n",
       "      <td>2.0</td>\n",
       "      <td>NaN</td>\n",
       "      <td>Relatively New</td>\n",
       "      <td>700.0</td>\n",
       "      <td>NaN</td>\n",
       "      <td>530.00</td>\n",
       "      <td>0</td>\n",
       "      <td>0</td>\n",
       "      <td>0</td>\n",
       "      <td>0</td>\n",
       "      <td>0</td>\n",
       "      <td>1</td>\n",
       "      <td>0</td>\n",
       "      <td>3714.0</td>\n",
       "      <td>350.000000</td>\n",
       "    </tr>\n",
       "    <tr>\n",
       "      <th>25</th>\n",
       "      <td>falt</td>\n",
       "      <td>puri diplomatic greens</td>\n",
       "      <td>sector 111</td>\n",
       "      <td>3.90</td>\n",
       "      <td>13000.0</td>\n",
       "      <td>3000.0</td>\n",
       "      <td>Super Built up area 3000(278.71 sq.m.)Carpet a...</td>\n",
       "      <td>4</td>\n",
       "      <td>5</td>\n",
       "      <td>3+</td>\n",
       "      <td>6.0</td>\n",
       "      <td>North-East</td>\n",
       "      <td>Relatively New</td>\n",
       "      <td>3000.0</td>\n",
       "      <td>NaN</td>\n",
       "      <td>2950.00</td>\n",
       "      <td>0</td>\n",
       "      <td>1</td>\n",
       "      <td>0</td>\n",
       "      <td>0</td>\n",
       "      <td>0</td>\n",
       "      <td>2</td>\n",
       "      <td>160</td>\n",
       "      <td>13000.0</td>\n",
       "      <td>750.000000</td>\n",
       "    </tr>\n",
       "    <tr>\n",
       "      <th>44</th>\n",
       "      <td>falt</td>\n",
       "      <td>mapsko mount ville</td>\n",
       "      <td>sector 79</td>\n",
       "      <td>1.25</td>\n",
       "      <td>7716.0</td>\n",
       "      <td>1620.0</td>\n",
       "      <td>Super Built up area 1620(150.5 sq.m.)Carpet ar...</td>\n",
       "      <td>3</td>\n",
       "      <td>3</td>\n",
       "      <td>2</td>\n",
       "      <td>1.0</td>\n",
       "      <td>South-West</td>\n",
       "      <td>Relatively New</td>\n",
       "      <td>1620.0</td>\n",
       "      <td>NaN</td>\n",
       "      <td>862.18</td>\n",
       "      <td>1</td>\n",
       "      <td>0</td>\n",
       "      <td>0</td>\n",
       "      <td>1</td>\n",
       "      <td>0</td>\n",
       "      <td>0</td>\n",
       "      <td>166</td>\n",
       "      <td>7716.0</td>\n",
       "      <td>540.000000</td>\n",
       "    </tr>\n",
       "    <tr>\n",
       "      <th>45</th>\n",
       "      <td>falt</td>\n",
       "      <td>avl 36 gurgaon</td>\n",
       "      <td>sector 36a</td>\n",
       "      <td>0.36</td>\n",
       "      <td>8990.0</td>\n",
       "      <td>400.0</td>\n",
       "      <td>Super Built up area 406(37.72 sq.m.)Carpet are...</td>\n",
       "      <td>1</td>\n",
       "      <td>1</td>\n",
       "      <td>1</td>\n",
       "      <td>7.0</td>\n",
       "      <td>West</td>\n",
       "      <td>Relatively New</td>\n",
       "      <td>406.0</td>\n",
       "      <td>NaN</td>\n",
       "      <td>402.00</td>\n",
       "      <td>0</td>\n",
       "      <td>0</td>\n",
       "      <td>0</td>\n",
       "      <td>0</td>\n",
       "      <td>0</td>\n",
       "      <td>1</td>\n",
       "      <td>95</td>\n",
       "      <td>9000.0</td>\n",
       "      <td>400.000000</td>\n",
       "    </tr>\n",
       "    <tr>\n",
       "      <th>...</th>\n",
       "      <td>...</td>\n",
       "      <td>...</td>\n",
       "      <td>...</td>\n",
       "      <td>...</td>\n",
       "      <td>...</td>\n",
       "      <td>...</td>\n",
       "      <td>...</td>\n",
       "      <td>...</td>\n",
       "      <td>...</td>\n",
       "      <td>...</td>\n",
       "      <td>...</td>\n",
       "      <td>...</td>\n",
       "      <td>...</td>\n",
       "      <td>...</td>\n",
       "      <td>...</td>\n",
       "      <td>...</td>\n",
       "      <td>...</td>\n",
       "      <td>...</td>\n",
       "      <td>...</td>\n",
       "      <td>...</td>\n",
       "      <td>...</td>\n",
       "      <td>...</td>\n",
       "      <td>...</td>\n",
       "      <td>...</td>\n",
       "      <td>...</td>\n",
       "    </tr>\n",
       "    <tr>\n",
       "      <th>3500</th>\n",
       "      <td>falt</td>\n",
       "      <td>dlf regal gardens</td>\n",
       "      <td>sector 90</td>\n",
       "      <td>1.20</td>\n",
       "      <td>6837.0</td>\n",
       "      <td>1755.0</td>\n",
       "      <td>Super Built up area 1755(163.04 sq.m.)Carpet a...</td>\n",
       "      <td>3</td>\n",
       "      <td>3</td>\n",
       "      <td>3+</td>\n",
       "      <td>15.0</td>\n",
       "      <td>South-West</td>\n",
       "      <td>Relatively New</td>\n",
       "      <td>1755.0</td>\n",
       "      <td>NaN</td>\n",
       "      <td>1400.00</td>\n",
       "      <td>0</td>\n",
       "      <td>0</td>\n",
       "      <td>0</td>\n",
       "      <td>0</td>\n",
       "      <td>0</td>\n",
       "      <td>1</td>\n",
       "      <td>118</td>\n",
       "      <td>6838.0</td>\n",
       "      <td>585.000000</td>\n",
       "    </tr>\n",
       "    <tr>\n",
       "      <th>3502</th>\n",
       "      <td>falt</td>\n",
       "      <td>umang winter hills</td>\n",
       "      <td>sector 77</td>\n",
       "      <td>0.92</td>\n",
       "      <td>5049.0</td>\n",
       "      <td>1822.0</td>\n",
       "      <td>Super Built up area 1822(169.27 sq.m.)Carpet a...</td>\n",
       "      <td>3</td>\n",
       "      <td>3</td>\n",
       "      <td>3</td>\n",
       "      <td>17.0</td>\n",
       "      <td>North-East</td>\n",
       "      <td>Relatively New</td>\n",
       "      <td>1822.0</td>\n",
       "      <td>NaN</td>\n",
       "      <td>1400.00</td>\n",
       "      <td>0</td>\n",
       "      <td>0</td>\n",
       "      <td>0</td>\n",
       "      <td>0</td>\n",
       "      <td>1</td>\n",
       "      <td>0</td>\n",
       "      <td>49</td>\n",
       "      <td>5049.0</td>\n",
       "      <td>607.333333</td>\n",
       "    </tr>\n",
       "    <tr>\n",
       "      <th>3511</th>\n",
       "      <td>falt</td>\n",
       "      <td>rof ananda</td>\n",
       "      <td>sector 95</td>\n",
       "      <td>0.26</td>\n",
       "      <td>6032.0</td>\n",
       "      <td>431.0</td>\n",
       "      <td>Super Built up area 431(40.04 sq.m.)Carpet are...</td>\n",
       "      <td>1</td>\n",
       "      <td>1</td>\n",
       "      <td>1</td>\n",
       "      <td>8.0</td>\n",
       "      <td>North</td>\n",
       "      <td>New Property</td>\n",
       "      <td>431.0</td>\n",
       "      <td>NaN</td>\n",
       "      <td>380.44</td>\n",
       "      <td>0</td>\n",
       "      <td>0</td>\n",
       "      <td>0</td>\n",
       "      <td>0</td>\n",
       "      <td>0</td>\n",
       "      <td>1</td>\n",
       "      <td>49</td>\n",
       "      <td>6032.0</td>\n",
       "      <td>431.000000</td>\n",
       "    </tr>\n",
       "    <tr>\n",
       "      <th>3543</th>\n",
       "      <td>falt</td>\n",
       "      <td>pareena mi casa</td>\n",
       "      <td>sector 68</td>\n",
       "      <td>1.10</td>\n",
       "      <td>9020.0</td>\n",
       "      <td>1220.0</td>\n",
       "      <td>Super Built up area 1245(115.66 sq.m.)Carpet a...</td>\n",
       "      <td>2</td>\n",
       "      <td>2</td>\n",
       "      <td>3</td>\n",
       "      <td>13.0</td>\n",
       "      <td>East</td>\n",
       "      <td>New Property</td>\n",
       "      <td>1245.0</td>\n",
       "      <td>NaN</td>\n",
       "      <td>1225.00</td>\n",
       "      <td>0</td>\n",
       "      <td>0</td>\n",
       "      <td>0</td>\n",
       "      <td>0</td>\n",
       "      <td>0</td>\n",
       "      <td>1</td>\n",
       "      <td>106</td>\n",
       "      <td>9016.0</td>\n",
       "      <td>610.000000</td>\n",
       "    </tr>\n",
       "    <tr>\n",
       "      <th>3546</th>\n",
       "      <td>falt</td>\n",
       "      <td>rof ananda</td>\n",
       "      <td>sector 95</td>\n",
       "      <td>0.55</td>\n",
       "      <td>8527.0</td>\n",
       "      <td>645.0</td>\n",
       "      <td>Super Built up area 1000(92.9 sq.m.)Carpet are...</td>\n",
       "      <td>3</td>\n",
       "      <td>2</td>\n",
       "      <td>2</td>\n",
       "      <td>14.0</td>\n",
       "      <td>East</td>\n",
       "      <td>New Property</td>\n",
       "      <td>1000.0</td>\n",
       "      <td>NaN</td>\n",
       "      <td>645.00</td>\n",
       "      <td>1</td>\n",
       "      <td>0</td>\n",
       "      <td>0</td>\n",
       "      <td>0</td>\n",
       "      <td>0</td>\n",
       "      <td>0</td>\n",
       "      <td>81</td>\n",
       "      <td>8527.0</td>\n",
       "      <td>215.000000</td>\n",
       "    </tr>\n",
       "  </tbody>\n",
       "</table>\n",
       "<p>421 rows × 25 columns</p>\n",
       "</div>"
      ],
      "text/plain": [
       "     property_type                  society      sector  price  \\\n",
       "9             falt  signature global synera   sector 81   0.48   \n",
       "12            falt          shyam apartment    sector 3   0.26   \n",
       "25            falt   puri diplomatic greens  sector 111   3.90   \n",
       "44            falt       mapsko mount ville   sector 79   1.25   \n",
       "45            falt           avl 36 gurgaon  sector 36a   0.36   \n",
       "...            ...                      ...         ...    ...   \n",
       "3500          falt        dlf regal gardens   sector 90   1.20   \n",
       "3502          falt       umang winter hills   sector 77   0.92   \n",
       "3511          falt               rof ananda   sector 95   0.26   \n",
       "3543          falt          pareena mi casa   sector 68   1.10   \n",
       "3546          falt               rof ananda   sector 95   0.55   \n",
       "\n",
       "      price_per_sqrt    area  \\\n",
       "9             8450.0   568.0   \n",
       "12            3714.0   700.0   \n",
       "25           13000.0  3000.0   \n",
       "44            7716.0  1620.0   \n",
       "45            8990.0   400.0   \n",
       "...              ...     ...   \n",
       "3500          6837.0  1755.0   \n",
       "3502          5049.0  1822.0   \n",
       "3511          6032.0   431.0   \n",
       "3543          9020.0  1220.0   \n",
       "3546          8527.0   645.0   \n",
       "\n",
       "                                           areaWithType  bedRoom  bathroom  \\\n",
       "9     Super Built up area 657(61.04 sq.m.)Carpet are...        2         2   \n",
       "12    Super Built up area 700(65.03 sq.m.)Carpet are...        2         1   \n",
       "25    Super Built up area 3000(278.71 sq.m.)Carpet a...        4         5   \n",
       "44    Super Built up area 1620(150.5 sq.m.)Carpet ar...        3         3   \n",
       "45    Super Built up area 406(37.72 sq.m.)Carpet are...        1         1   \n",
       "...                                                 ...      ...       ...   \n",
       "3500  Super Built up area 1755(163.04 sq.m.)Carpet a...        3         3   \n",
       "3502  Super Built up area 1822(169.27 sq.m.)Carpet a...        3         3   \n",
       "3511  Super Built up area 431(40.04 sq.m.)Carpet are...        1         1   \n",
       "3543  Super Built up area 1245(115.66 sq.m.)Carpet a...        2         2   \n",
       "3546  Super Built up area 1000(92.9 sq.m.)Carpet are...        3         2   \n",
       "\n",
       "     balcony  floorNum      facing   agePossession  super_built_up_area  \\\n",
       "9          1       7.0  South-East  Relatively New                657.0   \n",
       "12         2       2.0         NaN  Relatively New                700.0   \n",
       "25        3+       6.0  North-East  Relatively New               3000.0   \n",
       "44         2       1.0  South-West  Relatively New               1620.0   \n",
       "45         1       7.0        West  Relatively New                406.0   \n",
       "...      ...       ...         ...             ...                  ...   \n",
       "3500      3+      15.0  South-West  Relatively New               1755.0   \n",
       "3502       3      17.0  North-East  Relatively New               1822.0   \n",
       "3511       1       8.0       North    New Property                431.0   \n",
       "3543       3      13.0        East    New Property               1245.0   \n",
       "3546       2      14.0        East    New Property               1000.0   \n",
       "\n",
       "      built_up_area  carpet_area  study room  servant room  store room  \\\n",
       "9               NaN       568.00           0             0           0   \n",
       "12              NaN       530.00           0             0           0   \n",
       "25              NaN      2950.00           0             1           0   \n",
       "44              NaN       862.18           1             0           0   \n",
       "45              NaN       402.00           0             0           0   \n",
       "...             ...          ...         ...           ...         ...   \n",
       "3500            NaN      1400.00           0             0           0   \n",
       "3502            NaN      1400.00           0             0           0   \n",
       "3511            NaN       380.44           0             0           0   \n",
       "3543            NaN      1225.00           0             0           0   \n",
       "3546            NaN       645.00           1             0           0   \n",
       "\n",
       "      pooja room  others  furnishing_type  luxury_score  price_per_sqft  \\\n",
       "9              0       0                0            70          8451.0   \n",
       "12             0       0                1             0          3714.0   \n",
       "25             0       0                2           160         13000.0   \n",
       "44             1       0                0           166          7716.0   \n",
       "45             0       0                1            95          9000.0   \n",
       "...          ...     ...              ...           ...             ...   \n",
       "3500           0       0                1           118          6838.0   \n",
       "3502           0       1                0            49          5049.0   \n",
       "3511           0       0                1            49          6032.0   \n",
       "3543           0       0                1           106          9016.0   \n",
       "3546           0       0                0            81          8527.0   \n",
       "\n",
       "      aera_room_ratio  \n",
       "9          284.000000  \n",
       "12         350.000000  \n",
       "25         750.000000  \n",
       "44         540.000000  \n",
       "45         400.000000  \n",
       "...               ...  \n",
       "3500       585.000000  \n",
       "3502       607.333333  \n",
       "3511       431.000000  \n",
       "3543       610.000000  \n",
       "3546       215.000000  \n",
       "\n",
       "[421 rows x 25 columns]"
      ]
     },
     "execution_count": 16,
     "metadata": {},
     "output_type": "execute_result"
    }
   ],
   "source": [
    "sbc_df"
   ]
  },
  {
   "cell_type": "code",
   "execution_count": 17,
   "id": "b555d8f4",
   "metadata": {
    "ExecuteTime": {
     "end_time": "2024-09-10T12:32:26.842719Z",
     "start_time": "2024-09-10T12:32:26.582300Z"
    }
   },
   "outputs": [
    {
     "name": "stderr",
     "output_type": "stream",
     "text": [
      "C:\\Users\\HARSHIT JAIN\\AppData\\Local\\Temp\\ipykernel_9608\\3548745466.py:1: FutureWarning: A value is trying to be set on a copy of a DataFrame or Series through chained assignment using an inplace method.\n",
      "The behavior will change in pandas 3.0. This inplace method will never work because the intermediate object on which we are setting values always behaves as a copy.\n",
      "\n",
      "For example, when doing 'df[col].method(value, inplace=True)', try using 'df.method({col: value}, inplace=True)' or df[col] = df[col].method(value) instead, to perform the operation inplace on the original object.\n",
      "\n",
      "\n",
      "  sbc_df['built_up_area'].fillna(round(((sbc_df['super_built_up_area']/1.105) + (sbc_df['carpet_area']/0.9))/2), inplace=True)\n",
      "C:\\Users\\HARSHIT JAIN\\AppData\\Local\\Temp\\ipykernel_9608\\3548745466.py:1: SettingWithCopyWarning: \n",
      "A value is trying to be set on a copy of a slice from a DataFrame\n",
      "\n",
      "See the caveats in the documentation: https://pandas.pydata.org/pandas-docs/stable/user_guide/indexing.html#returning-a-view-versus-a-copy\n",
      "  sbc_df['built_up_area'].fillna(round(((sbc_df['super_built_up_area']/1.105) + (sbc_df['carpet_area']/0.9))/2), inplace=True)\n"
     ]
    }
   ],
   "source": [
    "sbc_df['built_up_area'].fillna(round(((sbc_df['super_built_up_area']/1.105) + (sbc_df['carpet_area']/0.9))/2), inplace=True)"
   ]
  },
  {
   "cell_type": "code",
   "execution_count": 18,
   "id": "57c64aca",
   "metadata": {
    "ExecuteTime": {
     "end_time": "2024-09-10T12:32:27.132113Z",
     "start_time": "2024-09-10T12:32:26.888197Z"
    }
   },
   "outputs": [],
   "source": [
    "df.update(sbc_df)"
   ]
  },
  {
   "cell_type": "code",
   "execution_count": 19,
   "id": "fad4cb13",
   "metadata": {
    "ExecuteTime": {
     "end_time": "2024-09-10T12:32:27.198281Z",
     "start_time": "2024-09-10T12:32:27.146246Z"
    }
   },
   "outputs": [
    {
     "data": {
      "text/plain": [
       "property_type             0\n",
       "society                   1\n",
       "sector                    0\n",
       "price                     0\n",
       "price_per_sqrt            0\n",
       "area                      0\n",
       "areaWithType              0\n",
       "bedRoom                   0\n",
       "bathroom                  0\n",
       "balcony                   0\n",
       "floorNum                 17\n",
       "facing                 1012\n",
       "agePossession             0\n",
       "super_built_up_area    1682\n",
       "built_up_area          1548\n",
       "carpet_area            1714\n",
       "study room                0\n",
       "servant room              0\n",
       "store room                0\n",
       "pooja room                0\n",
       "others                    0\n",
       "furnishing_type           0\n",
       "luxury_score              0\n",
       "price_per_sqft            0\n",
       "aera_room_ratio           0\n",
       "dtype: int64"
      ]
     },
     "execution_count": 19,
     "metadata": {},
     "output_type": "execute_result"
    }
   ],
   "source": [
    "df.isnull().sum()"
   ]
  },
  {
   "cell_type": "code",
   "execution_count": 20,
   "id": "2d587791",
   "metadata": {
    "ExecuteTime": {
     "end_time": "2024-09-10T12:32:27.329852Z",
     "start_time": "2024-09-10T12:32:27.207263Z"
    }
   },
   "outputs": [],
   "source": [
    "# super present, built up and carpet is null\n",
    "sb_df = df[~(df['super_built_up_area'].isnull()) & (df['built_up_area'].isnull()) & (df['carpet_area'].isnull())]"
   ]
  },
  {
   "cell_type": "code",
   "execution_count": 21,
   "id": "103c3bd5",
   "metadata": {
    "ExecuteTime": {
     "end_time": "2024-09-10T12:32:27.436100Z",
     "start_time": "2024-09-10T12:32:27.343828Z"
    }
   },
   "outputs": [
    {
     "data": {
      "text/plain": [
       "(874, 25)"
      ]
     },
     "execution_count": 21,
     "metadata": {},
     "output_type": "execute_result"
    }
   ],
   "source": [
    "sb_df.shape"
   ]
  },
  {
   "cell_type": "code",
   "execution_count": 22,
   "id": "ef3700f2",
   "metadata": {
    "ExecuteTime": {
     "end_time": "2024-09-10T12:32:27.614255Z",
     "start_time": "2024-09-10T12:32:27.453040Z"
    }
   },
   "outputs": [
    {
     "data": {
      "text/html": [
       "<div>\n",
       "<style scoped>\n",
       "    .dataframe tbody tr th:only-of-type {\n",
       "        vertical-align: middle;\n",
       "    }\n",
       "\n",
       "    .dataframe tbody tr th {\n",
       "        vertical-align: top;\n",
       "    }\n",
       "\n",
       "    .dataframe thead th {\n",
       "        text-align: right;\n",
       "    }\n",
       "</style>\n",
       "<table border=\"1\" class=\"dataframe\">\n",
       "  <thead>\n",
       "    <tr style=\"text-align: right;\">\n",
       "      <th></th>\n",
       "      <th>property_type</th>\n",
       "      <th>society</th>\n",
       "      <th>sector</th>\n",
       "      <th>price</th>\n",
       "      <th>price_per_sqrt</th>\n",
       "      <th>area</th>\n",
       "      <th>areaWithType</th>\n",
       "      <th>bedRoom</th>\n",
       "      <th>bathroom</th>\n",
       "      <th>balcony</th>\n",
       "      <th>floorNum</th>\n",
       "      <th>facing</th>\n",
       "      <th>agePossession</th>\n",
       "      <th>super_built_up_area</th>\n",
       "      <th>built_up_area</th>\n",
       "      <th>carpet_area</th>\n",
       "      <th>study room</th>\n",
       "      <th>servant room</th>\n",
       "      <th>store room</th>\n",
       "      <th>pooja room</th>\n",
       "      <th>others</th>\n",
       "      <th>furnishing_type</th>\n",
       "      <th>luxury_score</th>\n",
       "      <th>price_per_sqft</th>\n",
       "      <th>aera_room_ratio</th>\n",
       "    </tr>\n",
       "  </thead>\n",
       "  <tbody>\n",
       "    <tr>\n",
       "      <th>2</th>\n",
       "      <td>falt</td>\n",
       "      <td>tulip violet</td>\n",
       "      <td>sector 69</td>\n",
       "      <td>1.40</td>\n",
       "      <td>8856.0</td>\n",
       "      <td>1581.0</td>\n",
       "      <td>Super Built up area 1578(146.6 sq.m.)</td>\n",
       "      <td>3</td>\n",
       "      <td>3</td>\n",
       "      <td>2</td>\n",
       "      <td>9.0</td>\n",
       "      <td>West</td>\n",
       "      <td>Relatively New</td>\n",
       "      <td>1578.0</td>\n",
       "      <td>NaN</td>\n",
       "      <td>NaN</td>\n",
       "      <td>0</td>\n",
       "      <td>0</td>\n",
       "      <td>0</td>\n",
       "      <td>1</td>\n",
       "      <td>0</td>\n",
       "      <td>1</td>\n",
       "      <td>120</td>\n",
       "      <td>8855.0</td>\n",
       "      <td>527.000000</td>\n",
       "    </tr>\n",
       "    <tr>\n",
       "      <th>4</th>\n",
       "      <td>falt</td>\n",
       "      <td>godrej nature plus</td>\n",
       "      <td>sector 33</td>\n",
       "      <td>1.35</td>\n",
       "      <td>8670.0</td>\n",
       "      <td>1557.0</td>\n",
       "      <td>Super Built up area 1557(144.65 sq.m.)</td>\n",
       "      <td>3</td>\n",
       "      <td>2</td>\n",
       "      <td>3+</td>\n",
       "      <td>17.0</td>\n",
       "      <td>NaN</td>\n",
       "      <td>New Property</td>\n",
       "      <td>1557.0</td>\n",
       "      <td>NaN</td>\n",
       "      <td>NaN</td>\n",
       "      <td>0</td>\n",
       "      <td>0</td>\n",
       "      <td>0</td>\n",
       "      <td>0</td>\n",
       "      <td>0</td>\n",
       "      <td>1</td>\n",
       "      <td>38</td>\n",
       "      <td>8671.0</td>\n",
       "      <td>519.000000</td>\n",
       "    </tr>\n",
       "    <tr>\n",
       "      <th>5</th>\n",
       "      <td>falt</td>\n",
       "      <td>experion the heartsong</td>\n",
       "      <td>sector 108</td>\n",
       "      <td>0.90</td>\n",
       "      <td>7014.0</td>\n",
       "      <td>1283.0</td>\n",
       "      <td>Super Built up area 1283(119.19 sq.m.)</td>\n",
       "      <td>2</td>\n",
       "      <td>3</td>\n",
       "      <td>3</td>\n",
       "      <td>7.0</td>\n",
       "      <td>East</td>\n",
       "      <td>Relatively New</td>\n",
       "      <td>1283.0</td>\n",
       "      <td>NaN</td>\n",
       "      <td>NaN</td>\n",
       "      <td>0</td>\n",
       "      <td>1</td>\n",
       "      <td>0</td>\n",
       "      <td>0</td>\n",
       "      <td>1</td>\n",
       "      <td>1</td>\n",
       "      <td>72</td>\n",
       "      <td>7015.0</td>\n",
       "      <td>641.500000</td>\n",
       "    </tr>\n",
       "    <tr>\n",
       "      <th>6</th>\n",
       "      <td>falt</td>\n",
       "      <td>shree vardhman victoria</td>\n",
       "      <td>sector 70</td>\n",
       "      <td>1.65</td>\n",
       "      <td>8461.0</td>\n",
       "      <td>1950.0</td>\n",
       "      <td>Super Built up area 1950(181.16 sq.m.)</td>\n",
       "      <td>3</td>\n",
       "      <td>4</td>\n",
       "      <td>3</td>\n",
       "      <td>12.0</td>\n",
       "      <td>North</td>\n",
       "      <td>Relatively New</td>\n",
       "      <td>1950.0</td>\n",
       "      <td>NaN</td>\n",
       "      <td>NaN</td>\n",
       "      <td>0</td>\n",
       "      <td>1</td>\n",
       "      <td>1</td>\n",
       "      <td>0</td>\n",
       "      <td>0</td>\n",
       "      <td>1</td>\n",
       "      <td>56</td>\n",
       "      <td>8462.0</td>\n",
       "      <td>650.000000</td>\n",
       "    </tr>\n",
       "    <tr>\n",
       "      <th>15</th>\n",
       "      <td>falt</td>\n",
       "      <td>capital residences 360</td>\n",
       "      <td>sector 70a</td>\n",
       "      <td>1.51</td>\n",
       "      <td>7641.0</td>\n",
       "      <td>1976.0</td>\n",
       "      <td>Super Built up area 1976(183.58 sq.m.)</td>\n",
       "      <td>3</td>\n",
       "      <td>3</td>\n",
       "      <td>3</td>\n",
       "      <td>7.0</td>\n",
       "      <td>South-East</td>\n",
       "      <td>Relatively New</td>\n",
       "      <td>1976.0</td>\n",
       "      <td>NaN</td>\n",
       "      <td>NaN</td>\n",
       "      <td>0</td>\n",
       "      <td>1</td>\n",
       "      <td>0</td>\n",
       "      <td>0</td>\n",
       "      <td>0</td>\n",
       "      <td>1</td>\n",
       "      <td>49</td>\n",
       "      <td>7642.0</td>\n",
       "      <td>658.666667</td>\n",
       "    </tr>\n",
       "  </tbody>\n",
       "</table>\n",
       "</div>"
      ],
      "text/plain": [
       "   property_type                  society      sector  price  price_per_sqrt  \\\n",
       "2           falt             tulip violet   sector 69   1.40          8856.0   \n",
       "4           falt       godrej nature plus   sector 33   1.35          8670.0   \n",
       "5           falt   experion the heartsong  sector 108   0.90          7014.0   \n",
       "6           falt  shree vardhman victoria   sector 70   1.65          8461.0   \n",
       "15          falt   capital residences 360  sector 70a   1.51          7641.0   \n",
       "\n",
       "      area                            areaWithType  bedRoom  bathroom balcony  \\\n",
       "2   1581.0   Super Built up area 1578(146.6 sq.m.)        3         3       2   \n",
       "4   1557.0  Super Built up area 1557(144.65 sq.m.)        3         2      3+   \n",
       "5   1283.0  Super Built up area 1283(119.19 sq.m.)        2         3       3   \n",
       "6   1950.0  Super Built up area 1950(181.16 sq.m.)        3         4       3   \n",
       "15  1976.0  Super Built up area 1976(183.58 sq.m.)        3         3       3   \n",
       "\n",
       "    floorNum      facing   agePossession  super_built_up_area  built_up_area  \\\n",
       "2        9.0        West  Relatively New               1578.0            NaN   \n",
       "4       17.0         NaN    New Property               1557.0            NaN   \n",
       "5        7.0        East  Relatively New               1283.0            NaN   \n",
       "6       12.0       North  Relatively New               1950.0            NaN   \n",
       "15       7.0  South-East  Relatively New               1976.0            NaN   \n",
       "\n",
       "    carpet_area  study room  servant room  store room  pooja room  others  \\\n",
       "2           NaN           0             0           0           1       0   \n",
       "4           NaN           0             0           0           0       0   \n",
       "5           NaN           0             1           0           0       1   \n",
       "6           NaN           0             1           1           0       0   \n",
       "15          NaN           0             1           0           0       0   \n",
       "\n",
       "    furnishing_type  luxury_score  price_per_sqft  aera_room_ratio  \n",
       "2                 1           120          8855.0       527.000000  \n",
       "4                 1            38          8671.0       519.000000  \n",
       "5                 1            72          7015.0       641.500000  \n",
       "6                 1            56          8462.0       650.000000  \n",
       "15                1            49          7642.0       658.666667  "
      ]
     },
     "execution_count": 22,
     "metadata": {},
     "output_type": "execute_result"
    }
   ],
   "source": [
    "sb_df.head()"
   ]
  },
  {
   "cell_type": "code",
   "execution_count": 23,
   "id": "9e0c0a56",
   "metadata": {
    "ExecuteTime": {
     "end_time": "2024-09-10T12:32:27.819204Z",
     "start_time": "2024-09-10T12:32:27.631215Z"
    }
   },
   "outputs": [
    {
     "name": "stderr",
     "output_type": "stream",
     "text": [
      "C:\\Users\\HARSHIT JAIN\\AppData\\Local\\Temp\\ipykernel_9608\\1215299602.py:1: FutureWarning: A value is trying to be set on a copy of a DataFrame or Series through chained assignment using an inplace method.\n",
      "The behavior will change in pandas 3.0. This inplace method will never work because the intermediate object on which we are setting values always behaves as a copy.\n",
      "\n",
      "For example, when doing 'df[col].method(value, inplace=True)', try using 'df.method({col: value}, inplace=True)' or df[col] = df[col].method(value) instead, to perform the operation inplace on the original object.\n",
      "\n",
      "\n",
      "  sb_df['built_up_area'].fillna(round(sb_df['super_built_up_area']/1.105), inplace=True)\n",
      "C:\\Users\\HARSHIT JAIN\\AppData\\Local\\Temp\\ipykernel_9608\\1215299602.py:1: SettingWithCopyWarning: \n",
      "A value is trying to be set on a copy of a slice from a DataFrame\n",
      "\n",
      "See the caveats in the documentation: https://pandas.pydata.org/pandas-docs/stable/user_guide/indexing.html#returning-a-view-versus-a-copy\n",
      "  sb_df['built_up_area'].fillna(round(sb_df['super_built_up_area']/1.105), inplace=True)\n"
     ]
    }
   ],
   "source": [
    "sb_df['built_up_area'].fillna(round(sb_df['super_built_up_area']/1.105), inplace=True)"
   ]
  },
  {
   "cell_type": "code",
   "execution_count": 24,
   "id": "5e308b9c",
   "metadata": {
    "ExecuteTime": {
     "end_time": "2024-09-10T12:32:28.390416Z",
     "start_time": "2024-09-10T12:32:27.852122Z"
    }
   },
   "outputs": [],
   "source": [
    "df.update(sb_df)"
   ]
  },
  {
   "cell_type": "code",
   "execution_count": 25,
   "id": "c2efd661",
   "metadata": {
    "ExecuteTime": {
     "end_time": "2024-09-10T12:32:28.485744Z",
     "start_time": "2024-09-10T12:32:28.446275Z"
    }
   },
   "outputs": [
    {
     "data": {
      "text/plain": [
       "property_type             0\n",
       "society                   1\n",
       "sector                    0\n",
       "price                     0\n",
       "price_per_sqrt            0\n",
       "area                      0\n",
       "areaWithType              0\n",
       "bedRoom                   0\n",
       "bathroom                  0\n",
       "balcony                   0\n",
       "floorNum                 17\n",
       "facing                 1012\n",
       "agePossession             0\n",
       "super_built_up_area    1682\n",
       "built_up_area           674\n",
       "carpet_area            1714\n",
       "study room                0\n",
       "servant room              0\n",
       "store room                0\n",
       "pooja room                0\n",
       "others                    0\n",
       "furnishing_type           0\n",
       "luxury_score              0\n",
       "price_per_sqft            0\n",
       "aera_room_ratio           0\n",
       "dtype: int64"
      ]
     },
     "execution_count": 25,
     "metadata": {},
     "output_type": "execute_result"
    }
   ],
   "source": [
    "df.isnull().sum()"
   ]
  },
  {
   "cell_type": "code",
   "execution_count": 26,
   "id": "b4b32041",
   "metadata": {
    "ExecuteTime": {
     "end_time": "2024-09-10T12:32:28.599341Z",
     "start_time": "2024-09-10T12:32:28.520664Z"
    }
   },
   "outputs": [],
   "source": [
    "# super and built up  is null,  carpet is present\n",
    "c_df = df[(df['super_built_up_area'].isnull()) & (df['built_up_area'].isnull()) & ~(df['carpet_area'].isnull())]"
   ]
  },
  {
   "cell_type": "code",
   "execution_count": 27,
   "id": "b8fa312f",
   "metadata": {
    "ExecuteTime": {
     "end_time": "2024-09-10T12:32:28.709307Z",
     "start_time": "2024-09-10T12:32:28.609320Z"
    }
   },
   "outputs": [
    {
     "name": "stderr",
     "output_type": "stream",
     "text": [
      "C:\\Users\\HARSHIT JAIN\\AppData\\Local\\Temp\\ipykernel_9608\\3473321853.py:1: FutureWarning: A value is trying to be set on a copy of a DataFrame or Series through chained assignment using an inplace method.\n",
      "The behavior will change in pandas 3.0. This inplace method will never work because the intermediate object on which we are setting values always behaves as a copy.\n",
      "\n",
      "For example, when doing 'df[col].method(value, inplace=True)', try using 'df.method({col: value}, inplace=True)' or df[col] = df[col].method(value) instead, to perform the operation inplace on the original object.\n",
      "\n",
      "\n",
      "  c_df['built_up_area'].fillna(round(c_df['carpet_area']/0.9), inplace=True)\n",
      "C:\\Users\\HARSHIT JAIN\\AppData\\Local\\Temp\\ipykernel_9608\\3473321853.py:1: SettingWithCopyWarning: \n",
      "A value is trying to be set on a copy of a slice from a DataFrame\n",
      "\n",
      "See the caveats in the documentation: https://pandas.pydata.org/pandas-docs/stable/user_guide/indexing.html#returning-a-view-versus-a-copy\n",
      "  c_df['built_up_area'].fillna(round(c_df['carpet_area']/0.9), inplace=True)\n"
     ]
    }
   ],
   "source": [
    "c_df['built_up_area'].fillna(round(c_df['carpet_area']/0.9), inplace=True)"
   ]
  },
  {
   "cell_type": "code",
   "execution_count": 28,
   "id": "f02025b1",
   "metadata": {
    "ExecuteTime": {
     "end_time": "2024-09-10T12:32:28.835733Z",
     "start_time": "2024-09-10T12:32:28.722465Z"
    }
   },
   "outputs": [],
   "source": [
    "df.update(c_df)"
   ]
  },
  {
   "cell_type": "code",
   "execution_count": 29,
   "id": "0dc1ecbb",
   "metadata": {
    "ExecuteTime": {
     "end_time": "2024-09-10T12:32:28.912409Z",
     "start_time": "2024-09-10T12:32:28.843716Z"
    }
   },
   "outputs": [
    {
     "data": {
      "text/plain": [
       "property_type             0\n",
       "society                   1\n",
       "sector                    0\n",
       "price                     0\n",
       "price_per_sqrt            0\n",
       "area                      0\n",
       "areaWithType              0\n",
       "bedRoom                   0\n",
       "bathroom                  0\n",
       "balcony                   0\n",
       "floorNum                 17\n",
       "facing                 1012\n",
       "agePossession             0\n",
       "super_built_up_area    1682\n",
       "built_up_area             0\n",
       "carpet_area            1714\n",
       "study room                0\n",
       "servant room              0\n",
       "store room                0\n",
       "pooja room                0\n",
       "others                    0\n",
       "furnishing_type           0\n",
       "luxury_score              0\n",
       "price_per_sqft            0\n",
       "aera_room_ratio           0\n",
       "dtype: int64"
      ]
     },
     "execution_count": 29,
     "metadata": {},
     "output_type": "execute_result"
    }
   ],
   "source": [
    "df.isnull().sum()"
   ]
  },
  {
   "cell_type": "code",
   "execution_count": 30,
   "id": "0db473c1",
   "metadata": {
    "ExecuteTime": {
     "end_time": "2024-09-10T12:32:29.564416Z",
     "start_time": "2024-09-10T12:32:28.940339Z"
    }
   },
   "outputs": [
    {
     "data": {
      "text/plain": [
       "<Axes: xlabel='built_up_area', ylabel='price'>"
      ]
     },
     "execution_count": 30,
     "metadata": {},
     "output_type": "execute_result"
    },
    {
     "data": {
      "image/png": "[encoded data removed]",
      "text/plain": [
       "<Figure size 640x480 with 1 Axes>"
      ]
     },
     "metadata": {},
     "output_type": "display_data"
    }
   ],
   "source": [
    "sns.scatterplot(x=df['built_up_area'],y=df['price'])"
   ]
  },
  {
   "cell_type": "code",
   "execution_count": 31,
   "id": "efa11c42",
   "metadata": {
    "ExecuteTime": {
     "end_time": "2024-09-10T12:32:29.620083Z",
     "start_time": "2024-09-10T12:32:29.606311Z"
    }
   },
   "outputs": [],
   "source": [
    "anamoly_df = df[(df['built_up_area'] < 2000) & (df['price'] > 2.5)][['price','area','built_up_area']]"
   ]
  },
  {
   "cell_type": "code",
   "execution_count": 32,
   "id": "a5c2b6d9",
   "metadata": {
    "ExecuteTime": {
     "end_time": "2024-09-10T12:32:31.385738Z",
     "start_time": "2024-09-10T12:32:29.629065Z"
    }
   },
   "outputs": [
    {
     "data": {
      "text/html": [
       "<div>\n",
       "<style scoped>\n",
       "    .dataframe tbody tr th:only-of-type {\n",
       "        vertical-align: middle;\n",
       "    }\n",
       "\n",
       "    .dataframe tbody tr th {\n",
       "        vertical-align: top;\n",
       "    }\n",
       "\n",
       "    .dataframe thead th {\n",
       "        text-align: right;\n",
       "    }\n",
       "</style>\n",
       "<table border=\"1\" class=\"dataframe\">\n",
       "  <thead>\n",
       "    <tr style=\"text-align: right;\">\n",
       "      <th></th>\n",
       "      <th>price</th>\n",
       "      <th>area</th>\n",
       "      <th>built_up_area</th>\n",
       "    </tr>\n",
       "  </thead>\n",
       "  <tbody>\n",
       "    <tr>\n",
       "      <th>0</th>\n",
       "      <td>5.75</td>\n",
       "      <td>2329.0</td>\n",
       "      <td>1900.0</td>\n",
       "    </tr>\n",
       "    <tr>\n",
       "      <th>62</th>\n",
       "      <td>9.25</td>\n",
       "      <td>5580.0</td>\n",
       "      <td>630.0</td>\n",
       "    </tr>\n",
       "    <tr>\n",
       "      <th>96</th>\n",
       "      <td>5.70</td>\n",
       "      <td>2430.0</td>\n",
       "      <td>270.0</td>\n",
       "    </tr>\n",
       "    <tr>\n",
       "      <th>143</th>\n",
       "      <td>2.80</td>\n",
       "      <td>1700.0</td>\n",
       "      <td>1920.0</td>\n",
       "    </tr>\n",
       "    <tr>\n",
       "      <th>154</th>\n",
       "      <td>4.00</td>\n",
       "      <td>2025.0</td>\n",
       "      <td>225.0</td>\n",
       "    </tr>\n",
       "    <tr>\n",
       "      <th>...</th>\n",
       "      <td>...</td>\n",
       "      <td>...</td>\n",
       "      <td>...</td>\n",
       "    </tr>\n",
       "    <tr>\n",
       "      <th>3506</th>\n",
       "      <td>3.90</td>\n",
       "      <td>1836.0</td>\n",
       "      <td>1836.0</td>\n",
       "    </tr>\n",
       "    <tr>\n",
       "      <th>3529</th>\n",
       "      <td>4.85</td>\n",
       "      <td>1875.0</td>\n",
       "      <td>1697.0</td>\n",
       "    </tr>\n",
       "    <tr>\n",
       "      <th>3538</th>\n",
       "      <td>9.50</td>\n",
       "      <td>4071.0</td>\n",
       "      <td>500.0</td>\n",
       "    </tr>\n",
       "    <tr>\n",
       "      <th>3548</th>\n",
       "      <td>3.40</td>\n",
       "      <td>2200.0</td>\n",
       "      <td>1991.0</td>\n",
       "    </tr>\n",
       "    <tr>\n",
       "      <th>3550</th>\n",
       "      <td>4.50</td>\n",
       "      <td>1350.0</td>\n",
       "      <td>1350.0</td>\n",
       "    </tr>\n",
       "  </tbody>\n",
       "</table>\n",
       "<p>275 rows × 3 columns</p>\n",
       "</div>"
      ],
      "text/plain": [
       "      price    area  built_up_area\n",
       "0      5.75  2329.0         1900.0\n",
       "62     9.25  5580.0          630.0\n",
       "96     5.70  2430.0          270.0\n",
       "143    2.80  1700.0         1920.0\n",
       "154    4.00  2025.0          225.0\n",
       "...     ...     ...            ...\n",
       "3506   3.90  1836.0         1836.0\n",
       "3529   4.85  1875.0         1697.0\n",
       "3538   9.50  4071.0          500.0\n",
       "3548   3.40  2200.0         1991.0\n",
       "3550   4.50  1350.0         1350.0\n",
       "\n",
       "[275 rows x 3 columns]"
      ]
     },
     "execution_count": 32,
     "metadata": {},
     "output_type": "execute_result"
    }
   ],
   "source": [
    "anamoly_df"
   ]
  },
  {
   "cell_type": "code",
   "execution_count": 33,
   "id": "7ebef23f",
   "metadata": {
    "ExecuteTime": {
     "end_time": "2024-09-10T12:32:31.490456Z",
     "start_time": "2024-09-10T12:32:31.409679Z"
    }
   },
   "outputs": [],
   "source": [
    "anamoly_df['built_up_area'] = anamoly_df['area']"
   ]
  },
  {
   "cell_type": "code",
   "execution_count": 34,
   "id": "7adf1259",
   "metadata": {
    "ExecuteTime": {
     "end_time": "2024-09-10T12:32:31.649057Z",
     "start_time": "2024-09-10T12:32:31.521370Z"
    }
   },
   "outputs": [],
   "source": [
    "df.update(anamoly_df)"
   ]
  },
  {
   "cell_type": "code",
   "execution_count": 35,
   "id": "9657b0b0",
   "metadata": {
    "ExecuteTime": {
     "end_time": "2024-09-10T12:32:32.275621Z",
     "start_time": "2024-09-10T12:32:31.658038Z"
    }
   },
   "outputs": [
    {
     "data": {
      "text/plain": [
       "<Axes: xlabel='built_up_area', ylabel='price'>"
      ]
     },
     "execution_count": 35,
     "metadata": {},
     "output_type": "execute_result"
    },
    {
     "data": {
      "image/png": "[encoded data removed]",
      "text/plain": [
       "<Figure size 640x480 with 1 Axes>"
      ]
     },
     "metadata": {},
     "output_type": "display_data"
    }
   ],
   "source": [
    "sns.scatterplot(x=df['built_up_area'],y=df['price'])"
   ]
  },
  {
   "cell_type": "code",
   "execution_count": 36,
   "id": "4d6a7443",
   "metadata": {
    "ExecuteTime": {
     "end_time": "2024-09-10T12:32:32.319487Z",
     "start_time": "2024-09-10T12:32:32.305547Z"
    }
   },
   "outputs": [],
   "source": [
    "df.drop(columns=['area','areaWithType','super_built_up_area','carpet_area'],inplace=True)"
   ]
  },
  {
   "cell_type": "code",
   "execution_count": 37,
   "id": "072b3ec3",
   "metadata": {
    "ExecuteTime": {
     "end_time": "2024-09-10T12:32:32.536959Z",
     "start_time": "2024-09-10T12:32:32.353405Z"
    }
   },
   "outputs": [
    {
     "data": {
      "text/html": [
       "<div>\n",
       "<style scoped>\n",
       "    .dataframe tbody tr th:only-of-type {\n",
       "        vertical-align: middle;\n",
       "    }\n",
       "\n",
       "    .dataframe tbody tr th {\n",
       "        vertical-align: top;\n",
       "    }\n",
       "\n",
       "    .dataframe thead th {\n",
       "        text-align: right;\n",
       "    }\n",
       "</style>\n",
       "<table border=\"1\" class=\"dataframe\">\n",
       "  <thead>\n",
       "    <tr style=\"text-align: right;\">\n",
       "      <th></th>\n",
       "      <th>property_type</th>\n",
       "      <th>society</th>\n",
       "      <th>sector</th>\n",
       "      <th>price</th>\n",
       "      <th>price_per_sqrt</th>\n",
       "      <th>bedRoom</th>\n",
       "      <th>bathroom</th>\n",
       "      <th>balcony</th>\n",
       "      <th>floorNum</th>\n",
       "      <th>facing</th>\n",
       "      <th>agePossession</th>\n",
       "      <th>built_up_area</th>\n",
       "      <th>study room</th>\n",
       "      <th>servant room</th>\n",
       "      <th>store room</th>\n",
       "      <th>pooja room</th>\n",
       "      <th>others</th>\n",
       "      <th>furnishing_type</th>\n",
       "      <th>luxury_score</th>\n",
       "      <th>price_per_sqft</th>\n",
       "      <th>aera_room_ratio</th>\n",
       "    </tr>\n",
       "  </thead>\n",
       "  <tbody>\n",
       "    <tr>\n",
       "      <th>0</th>\n",
       "      <td>falt</td>\n",
       "      <td>dlf park place</td>\n",
       "      <td>sector 54</td>\n",
       "      <td>5.75</td>\n",
       "      <td>24689.0</td>\n",
       "      <td>3</td>\n",
       "      <td>4</td>\n",
       "      <td>3</td>\n",
       "      <td>12.0</td>\n",
       "      <td>North-East</td>\n",
       "      <td>Relatively New</td>\n",
       "      <td>2329.0</td>\n",
       "      <td>0</td>\n",
       "      <td>1</td>\n",
       "      <td>0</td>\n",
       "      <td>0</td>\n",
       "      <td>0</td>\n",
       "      <td>2</td>\n",
       "      <td>174</td>\n",
       "      <td>24689.0</td>\n",
       "      <td>776.333333</td>\n",
       "    </tr>\n",
       "    <tr>\n",
       "      <th>1</th>\n",
       "      <td>falt</td>\n",
       "      <td>palam vihar society</td>\n",
       "      <td>sector 2</td>\n",
       "      <td>3.35</td>\n",
       "      <td>7444.0</td>\n",
       "      <td>4</td>\n",
       "      <td>4</td>\n",
       "      <td>3+</td>\n",
       "      <td>2.0</td>\n",
       "      <td>NaN</td>\n",
       "      <td>New Property</td>\n",
       "      <td>5000.0</td>\n",
       "      <td>1</td>\n",
       "      <td>0</td>\n",
       "      <td>0</td>\n",
       "      <td>0</td>\n",
       "      <td>0</td>\n",
       "      <td>1</td>\n",
       "      <td>66</td>\n",
       "      <td>7444.0</td>\n",
       "      <td>1125.000000</td>\n",
       "    </tr>\n",
       "    <tr>\n",
       "      <th>2</th>\n",
       "      <td>falt</td>\n",
       "      <td>tulip violet</td>\n",
       "      <td>sector 69</td>\n",
       "      <td>1.40</td>\n",
       "      <td>8856.0</td>\n",
       "      <td>3</td>\n",
       "      <td>3</td>\n",
       "      <td>2</td>\n",
       "      <td>9.0</td>\n",
       "      <td>West</td>\n",
       "      <td>Relatively New</td>\n",
       "      <td>1428.0</td>\n",
       "      <td>0</td>\n",
       "      <td>0</td>\n",
       "      <td>0</td>\n",
       "      <td>1</td>\n",
       "      <td>0</td>\n",
       "      <td>1</td>\n",
       "      <td>120</td>\n",
       "      <td>8855.0</td>\n",
       "      <td>527.000000</td>\n",
       "    </tr>\n",
       "    <tr>\n",
       "      <th>3</th>\n",
       "      <td>falt</td>\n",
       "      <td>m3m golf hills phase 1</td>\n",
       "      <td>sector 79</td>\n",
       "      <td>1.70</td>\n",
       "      <td>10828.0</td>\n",
       "      <td>3</td>\n",
       "      <td>2</td>\n",
       "      <td>3</td>\n",
       "      <td>10.0</td>\n",
       "      <td>NaN</td>\n",
       "      <td>Undefined</td>\n",
       "      <td>1570.0</td>\n",
       "      <td>0</td>\n",
       "      <td>0</td>\n",
       "      <td>0</td>\n",
       "      <td>0</td>\n",
       "      <td>0</td>\n",
       "      <td>1</td>\n",
       "      <td>0</td>\n",
       "      <td>10828.0</td>\n",
       "      <td>523.333333</td>\n",
       "    </tr>\n",
       "    <tr>\n",
       "      <th>4</th>\n",
       "      <td>falt</td>\n",
       "      <td>godrej nature plus</td>\n",
       "      <td>sector 33</td>\n",
       "      <td>1.35</td>\n",
       "      <td>8670.0</td>\n",
       "      <td>3</td>\n",
       "      <td>2</td>\n",
       "      <td>3+</td>\n",
       "      <td>17.0</td>\n",
       "      <td>NaN</td>\n",
       "      <td>New Property</td>\n",
       "      <td>1409.0</td>\n",
       "      <td>0</td>\n",
       "      <td>0</td>\n",
       "      <td>0</td>\n",
       "      <td>0</td>\n",
       "      <td>0</td>\n",
       "      <td>1</td>\n",
       "      <td>38</td>\n",
       "      <td>8671.0</td>\n",
       "      <td>519.000000</td>\n",
       "    </tr>\n",
       "  </tbody>\n",
       "</table>\n",
       "</div>"
      ],
      "text/plain": [
       "  property_type                 society     sector  price  price_per_sqrt  \\\n",
       "0          falt          dlf park place  sector 54   5.75         24689.0   \n",
       "1          falt     palam vihar society   sector 2   3.35          7444.0   \n",
       "2          falt            tulip violet  sector 69   1.40          8856.0   \n",
       "3          falt  m3m golf hills phase 1  sector 79   1.70         10828.0   \n",
       "4          falt      godrej nature plus  sector 33   1.35          8670.0   \n",
       "\n",
       "   bedRoom  bathroom balcony  floorNum      facing   agePossession  \\\n",
       "0        3         4       3      12.0  North-East  Relatively New   \n",
       "1        4         4      3+       2.0         NaN    New Property   \n",
       "2        3         3       2       9.0        West  Relatively New   \n",
       "3        3         2       3      10.0         NaN       Undefined   \n",
       "4        3         2      3+      17.0         NaN    New Property   \n",
       "\n",
       "   built_up_area  study room  servant room  store room  pooja room  others  \\\n",
       "0         2329.0           0             1           0           0       0   \n",
       "1         5000.0           1             0           0           0       0   \n",
       "2         1428.0           0             0           0           1       0   \n",
       "3         1570.0           0             0           0           0       0   \n",
       "4         1409.0           0             0           0           0       0   \n",
       "\n",
       "   furnishing_type  luxury_score  price_per_sqft  aera_room_ratio  \n",
       "0                2           174         24689.0       776.333333  \n",
       "1                1            66          7444.0      1125.000000  \n",
       "2                1           120          8855.0       527.000000  \n",
       "3                1             0         10828.0       523.333333  \n",
       "4                1            38          8671.0       519.000000  "
      ]
     },
     "execution_count": 37,
     "metadata": {},
     "output_type": "execute_result"
    }
   ],
   "source": [
    "df.head()"
   ]
  },
  {
   "cell_type": "code",
   "execution_count": 38,
   "id": "38ba8b85",
   "metadata": {
    "ExecuteTime": {
     "end_time": "2024-09-10T12:32:32.719627Z",
     "start_time": "2024-09-10T12:32:32.541949Z"
    }
   },
   "outputs": [],
   "source": [
    "df.drop(columns='aera_room_ratio',inplace=True)"
   ]
  },
  {
   "cell_type": "code",
   "execution_count": 39,
   "id": "63b9e063",
   "metadata": {
    "ExecuteTime": {
     "end_time": "2024-09-10T12:32:32.933474Z",
     "start_time": "2024-09-10T12:32:32.730654Z"
    }
   },
   "outputs": [
    {
     "data": {
      "text/html": [
       "<div>\n",
       "<style scoped>\n",
       "    .dataframe tbody tr th:only-of-type {\n",
       "        vertical-align: middle;\n",
       "    }\n",
       "\n",
       "    .dataframe tbody tr th {\n",
       "        vertical-align: top;\n",
       "    }\n",
       "\n",
       "    .dataframe thead th {\n",
       "        text-align: right;\n",
       "    }\n",
       "</style>\n",
       "<table border=\"1\" class=\"dataframe\">\n",
       "  <thead>\n",
       "    <tr style=\"text-align: right;\">\n",
       "      <th></th>\n",
       "      <th>property_type</th>\n",
       "      <th>society</th>\n",
       "      <th>sector</th>\n",
       "      <th>price</th>\n",
       "      <th>price_per_sqrt</th>\n",
       "      <th>bedRoom</th>\n",
       "      <th>bathroom</th>\n",
       "      <th>balcony</th>\n",
       "      <th>floorNum</th>\n",
       "      <th>facing</th>\n",
       "      <th>agePossession</th>\n",
       "      <th>built_up_area</th>\n",
       "      <th>study room</th>\n",
       "      <th>servant room</th>\n",
       "      <th>store room</th>\n",
       "      <th>pooja room</th>\n",
       "      <th>others</th>\n",
       "      <th>furnishing_type</th>\n",
       "      <th>luxury_score</th>\n",
       "      <th>price_per_sqft</th>\n",
       "    </tr>\n",
       "  </thead>\n",
       "  <tbody>\n",
       "    <tr>\n",
       "      <th>0</th>\n",
       "      <td>falt</td>\n",
       "      <td>dlf park place</td>\n",
       "      <td>sector 54</td>\n",
       "      <td>5.75</td>\n",
       "      <td>24689.0</td>\n",
       "      <td>3</td>\n",
       "      <td>4</td>\n",
       "      <td>3</td>\n",
       "      <td>12.0</td>\n",
       "      <td>North-East</td>\n",
       "      <td>Relatively New</td>\n",
       "      <td>2329.0</td>\n",
       "      <td>0</td>\n",
       "      <td>1</td>\n",
       "      <td>0</td>\n",
       "      <td>0</td>\n",
       "      <td>0</td>\n",
       "      <td>2</td>\n",
       "      <td>174</td>\n",
       "      <td>24689.0</td>\n",
       "    </tr>\n",
       "    <tr>\n",
       "      <th>1</th>\n",
       "      <td>falt</td>\n",
       "      <td>palam vihar society</td>\n",
       "      <td>sector 2</td>\n",
       "      <td>3.35</td>\n",
       "      <td>7444.0</td>\n",
       "      <td>4</td>\n",
       "      <td>4</td>\n",
       "      <td>3+</td>\n",
       "      <td>2.0</td>\n",
       "      <td>NaN</td>\n",
       "      <td>New Property</td>\n",
       "      <td>5000.0</td>\n",
       "      <td>1</td>\n",
       "      <td>0</td>\n",
       "      <td>0</td>\n",
       "      <td>0</td>\n",
       "      <td>0</td>\n",
       "      <td>1</td>\n",
       "      <td>66</td>\n",
       "      <td>7444.0</td>\n",
       "    </tr>\n",
       "    <tr>\n",
       "      <th>2</th>\n",
       "      <td>falt</td>\n",
       "      <td>tulip violet</td>\n",
       "      <td>sector 69</td>\n",
       "      <td>1.40</td>\n",
       "      <td>8856.0</td>\n",
       "      <td>3</td>\n",
       "      <td>3</td>\n",
       "      <td>2</td>\n",
       "      <td>9.0</td>\n",
       "      <td>West</td>\n",
       "      <td>Relatively New</td>\n",
       "      <td>1428.0</td>\n",
       "      <td>0</td>\n",
       "      <td>0</td>\n",
       "      <td>0</td>\n",
       "      <td>1</td>\n",
       "      <td>0</td>\n",
       "      <td>1</td>\n",
       "      <td>120</td>\n",
       "      <td>8855.0</td>\n",
       "    </tr>\n",
       "    <tr>\n",
       "      <th>3</th>\n",
       "      <td>falt</td>\n",
       "      <td>m3m golf hills phase 1</td>\n",
       "      <td>sector 79</td>\n",
       "      <td>1.70</td>\n",
       "      <td>10828.0</td>\n",
       "      <td>3</td>\n",
       "      <td>2</td>\n",
       "      <td>3</td>\n",
       "      <td>10.0</td>\n",
       "      <td>NaN</td>\n",
       "      <td>Undefined</td>\n",
       "      <td>1570.0</td>\n",
       "      <td>0</td>\n",
       "      <td>0</td>\n",
       "      <td>0</td>\n",
       "      <td>0</td>\n",
       "      <td>0</td>\n",
       "      <td>1</td>\n",
       "      <td>0</td>\n",
       "      <td>10828.0</td>\n",
       "    </tr>\n",
       "    <tr>\n",
       "      <th>4</th>\n",
       "      <td>falt</td>\n",
       "      <td>godrej nature plus</td>\n",
       "      <td>sector 33</td>\n",
       "      <td>1.35</td>\n",
       "      <td>8670.0</td>\n",
       "      <td>3</td>\n",
       "      <td>2</td>\n",
       "      <td>3+</td>\n",
       "      <td>17.0</td>\n",
       "      <td>NaN</td>\n",
       "      <td>New Property</td>\n",
       "      <td>1409.0</td>\n",
       "      <td>0</td>\n",
       "      <td>0</td>\n",
       "      <td>0</td>\n",
       "      <td>0</td>\n",
       "      <td>0</td>\n",
       "      <td>1</td>\n",
       "      <td>38</td>\n",
       "      <td>8671.0</td>\n",
       "    </tr>\n",
       "  </tbody>\n",
       "</table>\n",
       "</div>"
      ],
      "text/plain": [
       "  property_type                 society     sector  price  price_per_sqrt  \\\n",
       "0          falt          dlf park place  sector 54   5.75         24689.0   \n",
       "1          falt     palam vihar society   sector 2   3.35          7444.0   \n",
       "2          falt            tulip violet  sector 69   1.40          8856.0   \n",
       "3          falt  m3m golf hills phase 1  sector 79   1.70         10828.0   \n",
       "4          falt      godrej nature plus  sector 33   1.35          8670.0   \n",
       "\n",
       "   bedRoom  bathroom balcony  floorNum      facing   agePossession  \\\n",
       "0        3         4       3      12.0  North-East  Relatively New   \n",
       "1        4         4      3+       2.0         NaN    New Property   \n",
       "2        3         3       2       9.0        West  Relatively New   \n",
       "3        3         2       3      10.0         NaN       Undefined   \n",
       "4        3         2      3+      17.0         NaN    New Property   \n",
       "\n",
       "   built_up_area  study room  servant room  store room  pooja room  others  \\\n",
       "0         2329.0           0             1           0           0       0   \n",
       "1         5000.0           1             0           0           0       0   \n",
       "2         1428.0           0             0           0           1       0   \n",
       "3         1570.0           0             0           0           0       0   \n",
       "4         1409.0           0             0           0           0       0   \n",
       "\n",
       "   furnishing_type  luxury_score  price_per_sqft  \n",
       "0                2           174         24689.0  \n",
       "1                1            66          7444.0  \n",
       "2                1           120          8855.0  \n",
       "3                1             0         10828.0  \n",
       "4                1            38          8671.0  "
      ]
     },
     "execution_count": 39,
     "metadata": {},
     "output_type": "execute_result"
    }
   ],
   "source": [
    "df.head()"
   ]
  },
  {
   "cell_type": "code",
   "execution_count": 40,
   "id": "bc28c63c",
   "metadata": {
    "ExecuteTime": {
     "end_time": "2024-09-10T12:32:33.109131Z",
     "start_time": "2024-09-10T12:32:32.974393Z"
    }
   },
   "outputs": [],
   "source": [
    "df.drop(df.columns[-1], axis=1, inplace=True)\n",
    "\n"
   ]
  },
  {
   "cell_type": "code",
   "execution_count": 41,
   "id": "79196844",
   "metadata": {
    "ExecuteTime": {
     "end_time": "2024-09-10T12:32:33.329404Z",
     "start_time": "2024-09-10T12:32:33.124460Z"
    }
   },
   "outputs": [
    {
     "data": {
      "text/html": [
       "<div>\n",
       "<style scoped>\n",
       "    .dataframe tbody tr th:only-of-type {\n",
       "        vertical-align: middle;\n",
       "    }\n",
       "\n",
       "    .dataframe tbody tr th {\n",
       "        vertical-align: top;\n",
       "    }\n",
       "\n",
       "    .dataframe thead th {\n",
       "        text-align: right;\n",
       "    }\n",
       "</style>\n",
       "<table border=\"1\" class=\"dataframe\">\n",
       "  <thead>\n",
       "    <tr style=\"text-align: right;\">\n",
       "      <th></th>\n",
       "      <th>property_type</th>\n",
       "      <th>society</th>\n",
       "      <th>sector</th>\n",
       "      <th>price</th>\n",
       "      <th>price_per_sqrt</th>\n",
       "      <th>bedRoom</th>\n",
       "      <th>bathroom</th>\n",
       "      <th>balcony</th>\n",
       "      <th>floorNum</th>\n",
       "      <th>facing</th>\n",
       "      <th>agePossession</th>\n",
       "      <th>built_up_area</th>\n",
       "      <th>study room</th>\n",
       "      <th>servant room</th>\n",
       "      <th>store room</th>\n",
       "      <th>pooja room</th>\n",
       "      <th>others</th>\n",
       "      <th>furnishing_type</th>\n",
       "      <th>luxury_score</th>\n",
       "    </tr>\n",
       "  </thead>\n",
       "  <tbody>\n",
       "    <tr>\n",
       "      <th>0</th>\n",
       "      <td>falt</td>\n",
       "      <td>dlf park place</td>\n",
       "      <td>sector 54</td>\n",
       "      <td>5.75</td>\n",
       "      <td>24689.0</td>\n",
       "      <td>3</td>\n",
       "      <td>4</td>\n",
       "      <td>3</td>\n",
       "      <td>12.0</td>\n",
       "      <td>North-East</td>\n",
       "      <td>Relatively New</td>\n",
       "      <td>2329.0</td>\n",
       "      <td>0</td>\n",
       "      <td>1</td>\n",
       "      <td>0</td>\n",
       "      <td>0</td>\n",
       "      <td>0</td>\n",
       "      <td>2</td>\n",
       "      <td>174</td>\n",
       "    </tr>\n",
       "    <tr>\n",
       "      <th>1</th>\n",
       "      <td>falt</td>\n",
       "      <td>palam vihar society</td>\n",
       "      <td>sector 2</td>\n",
       "      <td>3.35</td>\n",
       "      <td>7444.0</td>\n",
       "      <td>4</td>\n",
       "      <td>4</td>\n",
       "      <td>3+</td>\n",
       "      <td>2.0</td>\n",
       "      <td>NaN</td>\n",
       "      <td>New Property</td>\n",
       "      <td>5000.0</td>\n",
       "      <td>1</td>\n",
       "      <td>0</td>\n",
       "      <td>0</td>\n",
       "      <td>0</td>\n",
       "      <td>0</td>\n",
       "      <td>1</td>\n",
       "      <td>66</td>\n",
       "    </tr>\n",
       "    <tr>\n",
       "      <th>2</th>\n",
       "      <td>falt</td>\n",
       "      <td>tulip violet</td>\n",
       "      <td>sector 69</td>\n",
       "      <td>1.40</td>\n",
       "      <td>8856.0</td>\n",
       "      <td>3</td>\n",
       "      <td>3</td>\n",
       "      <td>2</td>\n",
       "      <td>9.0</td>\n",
       "      <td>West</td>\n",
       "      <td>Relatively New</td>\n",
       "      <td>1428.0</td>\n",
       "      <td>0</td>\n",
       "      <td>0</td>\n",
       "      <td>0</td>\n",
       "      <td>1</td>\n",
       "      <td>0</td>\n",
       "      <td>1</td>\n",
       "      <td>120</td>\n",
       "    </tr>\n",
       "    <tr>\n",
       "      <th>3</th>\n",
       "      <td>falt</td>\n",
       "      <td>m3m golf hills phase 1</td>\n",
       "      <td>sector 79</td>\n",
       "      <td>1.70</td>\n",
       "      <td>10828.0</td>\n",
       "      <td>3</td>\n",
       "      <td>2</td>\n",
       "      <td>3</td>\n",
       "      <td>10.0</td>\n",
       "      <td>NaN</td>\n",
       "      <td>Undefined</td>\n",
       "      <td>1570.0</td>\n",
       "      <td>0</td>\n",
       "      <td>0</td>\n",
       "      <td>0</td>\n",
       "      <td>0</td>\n",
       "      <td>0</td>\n",
       "      <td>1</td>\n",
       "      <td>0</td>\n",
       "    </tr>\n",
       "    <tr>\n",
       "      <th>4</th>\n",
       "      <td>falt</td>\n",
       "      <td>godrej nature plus</td>\n",
       "      <td>sector 33</td>\n",
       "      <td>1.35</td>\n",
       "      <td>8670.0</td>\n",
       "      <td>3</td>\n",
       "      <td>2</td>\n",
       "      <td>3+</td>\n",
       "      <td>17.0</td>\n",
       "      <td>NaN</td>\n",
       "      <td>New Property</td>\n",
       "      <td>1409.0</td>\n",
       "      <td>0</td>\n",
       "      <td>0</td>\n",
       "      <td>0</td>\n",
       "      <td>0</td>\n",
       "      <td>0</td>\n",
       "      <td>1</td>\n",
       "      <td>38</td>\n",
       "    </tr>\n",
       "  </tbody>\n",
       "</table>\n",
       "</div>"
      ],
      "text/plain": [
       "  property_type                 society     sector  price  price_per_sqrt  \\\n",
       "0          falt          dlf park place  sector 54   5.75         24689.0   \n",
       "1          falt     palam vihar society   sector 2   3.35          7444.0   \n",
       "2          falt            tulip violet  sector 69   1.40          8856.0   \n",
       "3          falt  m3m golf hills phase 1  sector 79   1.70         10828.0   \n",
       "4          falt      godrej nature plus  sector 33   1.35          8670.0   \n",
       "\n",
       "   bedRoom  bathroom balcony  floorNum      facing   agePossession  \\\n",
       "0        3         4       3      12.0  North-East  Relatively New   \n",
       "1        4         4      3+       2.0         NaN    New Property   \n",
       "2        3         3       2       9.0        West  Relatively New   \n",
       "3        3         2       3      10.0         NaN       Undefined   \n",
       "4        3         2      3+      17.0         NaN    New Property   \n",
       "\n",
       "   built_up_area  study room  servant room  store room  pooja room  others  \\\n",
       "0         2329.0           0             1           0           0       0   \n",
       "1         5000.0           1             0           0           0       0   \n",
       "2         1428.0           0             0           0           1       0   \n",
       "3         1570.0           0             0           0           0       0   \n",
       "4         1409.0           0             0           0           0       0   \n",
       "\n",
       "   furnishing_type  luxury_score  \n",
       "0                2           174  \n",
       "1                1            66  \n",
       "2                1           120  \n",
       "3                1             0  \n",
       "4                1            38  "
      ]
     },
     "execution_count": 41,
     "metadata": {},
     "output_type": "execute_result"
    }
   ],
   "source": [
    "df.head()"
   ]
  },
  {
   "cell_type": "code",
   "execution_count": 42,
   "id": "f27cec5d",
   "metadata": {
    "ExecuteTime": {
     "end_time": "2024-09-10T12:32:33.928566Z",
     "start_time": "2024-09-10T12:32:33.336427Z"
    }
   },
   "outputs": [
    {
     "data": {
      "text/plain": [
       "(3556, 19)"
      ]
     },
     "execution_count": 42,
     "metadata": {},
     "output_type": "execute_result"
    }
   ],
   "source": [
    "df.shape"
   ]
  },
  {
   "cell_type": "markdown",
   "id": "2a8aab1a",
   "metadata": {},
   "source": [
    "# floorNum"
   ]
  },
  {
   "cell_type": "code",
   "execution_count": 43,
   "id": "f5238a4a",
   "metadata": {
    "ExecuteTime": {
     "end_time": "2024-09-10T12:32:34.145945Z",
     "start_time": "2024-09-10T12:32:33.961133Z"
    }
   },
   "outputs": [
    {
     "data": {
      "text/html": [
       "<div>\n",
       "<style scoped>\n",
       "    .dataframe tbody tr th:only-of-type {\n",
       "        vertical-align: middle;\n",
       "    }\n",
       "\n",
       "    .dataframe tbody tr th {\n",
       "        vertical-align: top;\n",
       "    }\n",
       "\n",
       "    .dataframe thead th {\n",
       "        text-align: right;\n",
       "    }\n",
       "</style>\n",
       "<table border=\"1\" class=\"dataframe\">\n",
       "  <thead>\n",
       "    <tr style=\"text-align: right;\">\n",
       "      <th></th>\n",
       "      <th>property_type</th>\n",
       "      <th>society</th>\n",
       "      <th>sector</th>\n",
       "      <th>price</th>\n",
       "      <th>price_per_sqrt</th>\n",
       "      <th>bedRoom</th>\n",
       "      <th>bathroom</th>\n",
       "      <th>balcony</th>\n",
       "      <th>floorNum</th>\n",
       "      <th>facing</th>\n",
       "      <th>agePossession</th>\n",
       "      <th>built_up_area</th>\n",
       "      <th>study room</th>\n",
       "      <th>servant room</th>\n",
       "      <th>store room</th>\n",
       "      <th>pooja room</th>\n",
       "      <th>others</th>\n",
       "      <th>furnishing_type</th>\n",
       "      <th>luxury_score</th>\n",
       "    </tr>\n",
       "  </thead>\n",
       "  <tbody>\n",
       "    <tr>\n",
       "      <th>91</th>\n",
       "      <td>falt</td>\n",
       "      <td>experion heartsong</td>\n",
       "      <td>dwarka expressway</td>\n",
       "      <td>1.08</td>\n",
       "      <td>6150.0</td>\n",
       "      <td>3</td>\n",
       "      <td>3</td>\n",
       "      <td>0</td>\n",
       "      <td>NaN</td>\n",
       "      <td>NaN</td>\n",
       "      <td>Under Construction</td>\n",
       "      <td>1758.0</td>\n",
       "      <td>0</td>\n",
       "      <td>0</td>\n",
       "      <td>0</td>\n",
       "      <td>0</td>\n",
       "      <td>0</td>\n",
       "      <td>1</td>\n",
       "      <td>0</td>\n",
       "    </tr>\n",
       "    <tr>\n",
       "      <th>101</th>\n",
       "      <td>house</td>\n",
       "      <td>emaar mgf marbella</td>\n",
       "      <td>sector 66</td>\n",
       "      <td>9.00</td>\n",
       "      <td>21251.0</td>\n",
       "      <td>4</td>\n",
       "      <td>4</td>\n",
       "      <td>3+</td>\n",
       "      <td>NaN</td>\n",
       "      <td>South-West</td>\n",
       "      <td>Relatively New</td>\n",
       "      <td>5200.0</td>\n",
       "      <td>0</td>\n",
       "      <td>1</td>\n",
       "      <td>1</td>\n",
       "      <td>1</td>\n",
       "      <td>0</td>\n",
       "      <td>0</td>\n",
       "      <td>114</td>\n",
       "    </tr>\n",
       "    <tr>\n",
       "      <th>107</th>\n",
       "      <td>falt</td>\n",
       "      <td>NaN</td>\n",
       "      <td>sector 78</td>\n",
       "      <td>0.60</td>\n",
       "      <td>3692.0</td>\n",
       "      <td>2</td>\n",
       "      <td>2</td>\n",
       "      <td>0</td>\n",
       "      <td>NaN</td>\n",
       "      <td>NaN</td>\n",
       "      <td>Under Construction</td>\n",
       "      <td>1625.0</td>\n",
       "      <td>0</td>\n",
       "      <td>0</td>\n",
       "      <td>0</td>\n",
       "      <td>0</td>\n",
       "      <td>0</td>\n",
       "      <td>1</td>\n",
       "      <td>0</td>\n",
       "    </tr>\n",
       "    <tr>\n",
       "      <th>349</th>\n",
       "      <td>house</td>\n",
       "      <td>jacob pura</td>\n",
       "      <td>sector 12</td>\n",
       "      <td>0.35</td>\n",
       "      <td>9722.0</td>\n",
       "      <td>2</td>\n",
       "      <td>1</td>\n",
       "      <td>0</td>\n",
       "      <td>NaN</td>\n",
       "      <td>NaN</td>\n",
       "      <td>Old Property</td>\n",
       "      <td>360.0</td>\n",
       "      <td>0</td>\n",
       "      <td>0</td>\n",
       "      <td>0</td>\n",
       "      <td>0</td>\n",
       "      <td>0</td>\n",
       "      <td>1</td>\n",
       "      <td>0</td>\n",
       "    </tr>\n",
       "    <tr>\n",
       "      <th>427</th>\n",
       "      <td>house</td>\n",
       "      <td>independent</td>\n",
       "      <td>sector 25</td>\n",
       "      <td>13.00</td>\n",
       "      <td>45710.0</td>\n",
       "      <td>6</td>\n",
       "      <td>8</td>\n",
       "      <td>3+</td>\n",
       "      <td>NaN</td>\n",
       "      <td>NaN</td>\n",
       "      <td>Relatively New</td>\n",
       "      <td>2844.0</td>\n",
       "      <td>1</td>\n",
       "      <td>1</td>\n",
       "      <td>1</td>\n",
       "      <td>1</td>\n",
       "      <td>0</td>\n",
       "      <td>2</td>\n",
       "      <td>0</td>\n",
       "    </tr>\n",
       "    <tr>\n",
       "      <th>488</th>\n",
       "      <td>house</td>\n",
       "      <td>vipul tatvam villa</td>\n",
       "      <td>sector 48</td>\n",
       "      <td>8.50</td>\n",
       "      <td>26235.0</td>\n",
       "      <td>4</td>\n",
       "      <td>4</td>\n",
       "      <td>1</td>\n",
       "      <td>NaN</td>\n",
       "      <td>NaN</td>\n",
       "      <td>Relatively New</td>\n",
       "      <td>3240.0</td>\n",
       "      <td>0</td>\n",
       "      <td>0</td>\n",
       "      <td>0</td>\n",
       "      <td>0</td>\n",
       "      <td>0</td>\n",
       "      <td>1</td>\n",
       "      <td>21</td>\n",
       "    </tr>\n",
       "    <tr>\n",
       "      <th>890</th>\n",
       "      <td>house</td>\n",
       "      <td>vipul tatvam villa</td>\n",
       "      <td>sector 48</td>\n",
       "      <td>8.50</td>\n",
       "      <td>26235.0</td>\n",
       "      <td>4</td>\n",
       "      <td>4</td>\n",
       "      <td>2</td>\n",
       "      <td>NaN</td>\n",
       "      <td>East</td>\n",
       "      <td>Moderately Old</td>\n",
       "      <td>3240.0</td>\n",
       "      <td>0</td>\n",
       "      <td>1</td>\n",
       "      <td>1</td>\n",
       "      <td>1</td>\n",
       "      <td>0</td>\n",
       "      <td>1</td>\n",
       "      <td>88</td>\n",
       "    </tr>\n",
       "    <tr>\n",
       "      <th>1249</th>\n",
       "      <td>house</td>\n",
       "      <td>ansal sushant lok</td>\n",
       "      <td>sector 43</td>\n",
       "      <td>10.50</td>\n",
       "      <td>27911.0</td>\n",
       "      <td>4</td>\n",
       "      <td>4</td>\n",
       "      <td>2</td>\n",
       "      <td>NaN</td>\n",
       "      <td>North-East</td>\n",
       "      <td>Old Property</td>\n",
       "      <td>3762.0</td>\n",
       "      <td>0</td>\n",
       "      <td>1</td>\n",
       "      <td>0</td>\n",
       "      <td>0</td>\n",
       "      <td>0</td>\n",
       "      <td>1</td>\n",
       "      <td>59</td>\n",
       "    </tr>\n",
       "    <tr>\n",
       "      <th>1578</th>\n",
       "      <td>house</td>\n",
       "      <td>dlf new town heights</td>\n",
       "      <td>sector 86</td>\n",
       "      <td>2.47</td>\n",
       "      <td>7718.0</td>\n",
       "      <td>4</td>\n",
       "      <td>4</td>\n",
       "      <td>3+</td>\n",
       "      <td>NaN</td>\n",
       "      <td>West</td>\n",
       "      <td>Moderately Old</td>\n",
       "      <td>2800.0</td>\n",
       "      <td>0</td>\n",
       "      <td>1</td>\n",
       "      <td>0</td>\n",
       "      <td>1</td>\n",
       "      <td>0</td>\n",
       "      <td>0</td>\n",
       "      <td>130</td>\n",
       "    </tr>\n",
       "    <tr>\n",
       "      <th>1835</th>\n",
       "      <td>house</td>\n",
       "      <td>independent</td>\n",
       "      <td>sector 24</td>\n",
       "      <td>1.45</td>\n",
       "      <td>2984.0</td>\n",
       "      <td>3</td>\n",
       "      <td>3</td>\n",
       "      <td>1</td>\n",
       "      <td>NaN</td>\n",
       "      <td>NaN</td>\n",
       "      <td>Old Property</td>\n",
       "      <td>540.0</td>\n",
       "      <td>0</td>\n",
       "      <td>0</td>\n",
       "      <td>0</td>\n",
       "      <td>0</td>\n",
       "      <td>0</td>\n",
       "      <td>1</td>\n",
       "      <td>9</td>\n",
       "    </tr>\n",
       "    <tr>\n",
       "      <th>2183</th>\n",
       "      <td>house</td>\n",
       "      <td>independent</td>\n",
       "      <td>sector 2</td>\n",
       "      <td>5.60</td>\n",
       "      <td>17284.0</td>\n",
       "      <td>8</td>\n",
       "      <td>6</td>\n",
       "      <td>3+</td>\n",
       "      <td>NaN</td>\n",
       "      <td>South-West</td>\n",
       "      <td>Moderately Old</td>\n",
       "      <td>3240.0</td>\n",
       "      <td>1</td>\n",
       "      <td>1</td>\n",
       "      <td>1</td>\n",
       "      <td>1</td>\n",
       "      <td>0</td>\n",
       "      <td>1</td>\n",
       "      <td>0</td>\n",
       "    </tr>\n",
       "    <tr>\n",
       "      <th>2279</th>\n",
       "      <td>house</td>\n",
       "      <td>independent</td>\n",
       "      <td>sector 26</td>\n",
       "      <td>4.60</td>\n",
       "      <td>12198.0</td>\n",
       "      <td>4</td>\n",
       "      <td>4</td>\n",
       "      <td>3+</td>\n",
       "      <td>NaN</td>\n",
       "      <td>NaN</td>\n",
       "      <td>Old Property</td>\n",
       "      <td>3771.0</td>\n",
       "      <td>0</td>\n",
       "      <td>0</td>\n",
       "      <td>0</td>\n",
       "      <td>0</td>\n",
       "      <td>0</td>\n",
       "      <td>1</td>\n",
       "      <td>28</td>\n",
       "    </tr>\n",
       "    <tr>\n",
       "      <th>2381</th>\n",
       "      <td>house</td>\n",
       "      <td>independent</td>\n",
       "      <td>sector 7</td>\n",
       "      <td>6.50</td>\n",
       "      <td>15046.0</td>\n",
       "      <td>3</td>\n",
       "      <td>2</td>\n",
       "      <td>3+</td>\n",
       "      <td>NaN</td>\n",
       "      <td>NaN</td>\n",
       "      <td>Old Property</td>\n",
       "      <td>4320.0</td>\n",
       "      <td>0</td>\n",
       "      <td>0</td>\n",
       "      <td>0</td>\n",
       "      <td>0</td>\n",
       "      <td>0</td>\n",
       "      <td>1</td>\n",
       "      <td>9</td>\n",
       "    </tr>\n",
       "    <tr>\n",
       "      <th>2404</th>\n",
       "      <td>house</td>\n",
       "      <td>independent</td>\n",
       "      <td>sector 3</td>\n",
       "      <td>1.50</td>\n",
       "      <td>10288.0</td>\n",
       "      <td>3</td>\n",
       "      <td>3</td>\n",
       "      <td>0</td>\n",
       "      <td>NaN</td>\n",
       "      <td>NaN</td>\n",
       "      <td>Old Property</td>\n",
       "      <td>210.0</td>\n",
       "      <td>0</td>\n",
       "      <td>0</td>\n",
       "      <td>0</td>\n",
       "      <td>0</td>\n",
       "      <td>0</td>\n",
       "      <td>1</td>\n",
       "      <td>0</td>\n",
       "    </tr>\n",
       "    <tr>\n",
       "      <th>2877</th>\n",
       "      <td>house</td>\n",
       "      <td>ansal sushant lok plots</td>\n",
       "      <td>sector 43</td>\n",
       "      <td>3.30</td>\n",
       "      <td>26570.0</td>\n",
       "      <td>1</td>\n",
       "      <td>1</td>\n",
       "      <td>0</td>\n",
       "      <td>NaN</td>\n",
       "      <td>NaN</td>\n",
       "      <td>Under Construction</td>\n",
       "      <td>1242.0</td>\n",
       "      <td>0</td>\n",
       "      <td>0</td>\n",
       "      <td>0</td>\n",
       "      <td>0</td>\n",
       "      <td>0</td>\n",
       "      <td>1</td>\n",
       "      <td>0</td>\n",
       "    </tr>\n",
       "    <tr>\n",
       "      <th>2925</th>\n",
       "      <td>house</td>\n",
       "      <td>independent</td>\n",
       "      <td>sector 4</td>\n",
       "      <td>0.65</td>\n",
       "      <td>11111.0</td>\n",
       "      <td>4</td>\n",
       "      <td>2</td>\n",
       "      <td>2</td>\n",
       "      <td>NaN</td>\n",
       "      <td>NaN</td>\n",
       "      <td>Moderately Old</td>\n",
       "      <td>585.0</td>\n",
       "      <td>0</td>\n",
       "      <td>0</td>\n",
       "      <td>0</td>\n",
       "      <td>0</td>\n",
       "      <td>0</td>\n",
       "      <td>1</td>\n",
       "      <td>0</td>\n",
       "    </tr>\n",
       "    <tr>\n",
       "      <th>3477</th>\n",
       "      <td>house</td>\n",
       "      <td>independent</td>\n",
       "      <td>sector 4</td>\n",
       "      <td>4.12</td>\n",
       "      <td>8889.0</td>\n",
       "      <td>2</td>\n",
       "      <td>1</td>\n",
       "      <td>3+</td>\n",
       "      <td>NaN</td>\n",
       "      <td>NaN</td>\n",
       "      <td>Moderately Old</td>\n",
       "      <td>4635.0</td>\n",
       "      <td>0</td>\n",
       "      <td>0</td>\n",
       "      <td>0</td>\n",
       "      <td>0</td>\n",
       "      <td>0</td>\n",
       "      <td>1</td>\n",
       "      <td>0</td>\n",
       "    </tr>\n",
       "  </tbody>\n",
       "</table>\n",
       "</div>"
      ],
      "text/plain": [
       "     property_type                  society             sector  price  \\\n",
       "91            falt       experion heartsong  dwarka expressway   1.08   \n",
       "101          house       emaar mgf marbella          sector 66   9.00   \n",
       "107           falt                      NaN          sector 78   0.60   \n",
       "349          house               jacob pura          sector 12   0.35   \n",
       "427          house              independent          sector 25  13.00   \n",
       "488          house       vipul tatvam villa          sector 48   8.50   \n",
       "890          house       vipul tatvam villa          sector 48   8.50   \n",
       "1249         house        ansal sushant lok          sector 43  10.50   \n",
       "1578         house     dlf new town heights          sector 86   2.47   \n",
       "1835         house              independent          sector 24   1.45   \n",
       "2183         house              independent           sector 2   5.60   \n",
       "2279         house              independent          sector 26   4.60   \n",
       "2381         house              independent           sector 7   6.50   \n",
       "2404         house              independent           sector 3   1.50   \n",
       "2877         house  ansal sushant lok plots          sector 43   3.30   \n",
       "2925         house              independent           sector 4   0.65   \n",
       "3477         house              independent           sector 4   4.12   \n",
       "\n",
       "      price_per_sqrt  bedRoom  bathroom balcony  floorNum      facing  \\\n",
       "91            6150.0        3         3       0       NaN         NaN   \n",
       "101          21251.0        4         4      3+       NaN  South-West   \n",
       "107           3692.0        2         2       0       NaN         NaN   \n",
       "349           9722.0        2         1       0       NaN         NaN   \n",
       "427          45710.0        6         8      3+       NaN         NaN   \n",
       "488          26235.0        4         4       1       NaN         NaN   \n",
       "890          26235.0        4         4       2       NaN        East   \n",
       "1249         27911.0        4         4       2       NaN  North-East   \n",
       "1578          7718.0        4         4      3+       NaN        West   \n",
       "1835          2984.0        3         3       1       NaN         NaN   \n",
       "2183         17284.0        8         6      3+       NaN  South-West   \n",
       "2279         12198.0        4         4      3+       NaN         NaN   \n",
       "2381         15046.0        3         2      3+       NaN         NaN   \n",
       "2404         10288.0        3         3       0       NaN         NaN   \n",
       "2877         26570.0        1         1       0       NaN         NaN   \n",
       "2925         11111.0        4         2       2       NaN         NaN   \n",
       "3477          8889.0        2         1      3+       NaN         NaN   \n",
       "\n",
       "           agePossession  built_up_area  study room  servant room  store room  \\\n",
       "91    Under Construction         1758.0           0             0           0   \n",
       "101       Relatively New         5200.0           0             1           1   \n",
       "107   Under Construction         1625.0           0             0           0   \n",
       "349         Old Property          360.0           0             0           0   \n",
       "427       Relatively New         2844.0           1             1           1   \n",
       "488       Relatively New         3240.0           0             0           0   \n",
       "890       Moderately Old         3240.0           0             1           1   \n",
       "1249        Old Property         3762.0           0             1           0   \n",
       "1578      Moderately Old         2800.0           0             1           0   \n",
       "1835        Old Property          540.0           0             0           0   \n",
       "2183      Moderately Old         3240.0           1             1           1   \n",
       "2279        Old Property         3771.0           0             0           0   \n",
       "2381        Old Property         4320.0           0             0           0   \n",
       "2404        Old Property          210.0           0             0           0   \n",
       "2877  Under Construction         1242.0           0             0           0   \n",
       "2925      Moderately Old          585.0           0             0           0   \n",
       "3477      Moderately Old         4635.0           0             0           0   \n",
       "\n",
       "      pooja room  others  furnishing_type  luxury_score  \n",
       "91             0       0                1             0  \n",
       "101            1       0                0           114  \n",
       "107            0       0                1             0  \n",
       "349            0       0                1             0  \n",
       "427            1       0                2             0  \n",
       "488            0       0                1            21  \n",
       "890            1       0                1            88  \n",
       "1249           0       0                1            59  \n",
       "1578           1       0                0           130  \n",
       "1835           0       0                1             9  \n",
       "2183           1       0                1             0  \n",
       "2279           0       0                1            28  \n",
       "2381           0       0                1             9  \n",
       "2404           0       0                1             0  \n",
       "2877           0       0                1             0  \n",
       "2925           0       0                1             0  \n",
       "3477           0       0                1             0  "
      ]
     },
     "execution_count": 43,
     "metadata": {},
     "output_type": "execute_result"
    }
   ],
   "source": [
    "df[df['floorNum'].isnull()]"
   ]
  },
  {
   "cell_type": "code",
   "execution_count": 44,
   "id": "5698774c",
   "metadata": {
    "ExecuteTime": {
     "end_time": "2024-09-10T12:32:34.317428Z",
     "start_time": "2024-09-10T12:32:34.160367Z"
    }
   },
   "outputs": [
    {
     "data": {
      "text/plain": [
       "2.0"
      ]
     },
     "execution_count": 44,
     "metadata": {},
     "output_type": "execute_result"
    }
   ],
   "source": [
    "df[df['property_type'] == 'house']['floorNum'].median()"
   ]
  },
  {
   "cell_type": "code",
   "execution_count": 45,
   "id": "bd985f0e",
   "metadata": {
    "ExecuteTime": {
     "end_time": "2024-09-10T12:32:34.452553Z",
     "start_time": "2024-09-10T12:32:34.342383Z"
    }
   },
   "outputs": [
    {
     "name": "stderr",
     "output_type": "stream",
     "text": [
      "C:\\Users\\HARSHIT JAIN\\AppData\\Local\\Temp\\ipykernel_9608\\3788705936.py:1: FutureWarning: A value is trying to be set on a copy of a DataFrame or Series through chained assignment using an inplace method.\n",
      "The behavior will change in pandas 3.0. This inplace method will never work because the intermediate object on which we are setting values always behaves as a copy.\n",
      "\n",
      "For example, when doing 'df[col].method(value, inplace=True)', try using 'df.method({col: value}, inplace=True)' or df[col] = df[col].method(value) instead, to perform the operation inplace on the original object.\n",
      "\n",
      "\n",
      "  df['floorNum'].fillna(2.0,inplace=True)\n"
     ]
    }
   ],
   "source": [
    "\n",
    "df['floorNum'].fillna(2.0,inplace=True)"
   ]
  },
  {
   "cell_type": "code",
   "execution_count": 46,
   "id": "cf14de30",
   "metadata": {
    "ExecuteTime": {
     "end_time": "2024-09-10T12:32:34.614865Z",
     "start_time": "2024-09-10T12:32:34.471697Z"
    },
    "scrolled": true
   },
   "outputs": [
    {
     "data": {
      "text/plain": [
       "property_type         0\n",
       "society               1\n",
       "sector                0\n",
       "price                 0\n",
       "price_per_sqrt        0\n",
       "bedRoom               0\n",
       "bathroom              0\n",
       "balcony               0\n",
       "floorNum              0\n",
       "facing             1012\n",
       "agePossession         0\n",
       "built_up_area         0\n",
       "study room            0\n",
       "servant room          0\n",
       "store room            0\n",
       "pooja room            0\n",
       "others                0\n",
       "furnishing_type       0\n",
       "luxury_score          0\n",
       "dtype: int64"
      ]
     },
     "execution_count": 46,
     "metadata": {},
     "output_type": "execute_result"
    }
   ],
   "source": [
    "df.isnull().sum()"
   ]
  },
  {
   "cell_type": "markdown",
   "id": "c440f2b3",
   "metadata": {},
   "source": [
    "# facing  "
   ]
  },
  {
   "cell_type": "code",
   "execution_count": 47,
   "id": "c313697e",
   "metadata": {
    "ExecuteTime": {
     "end_time": "2024-09-10T12:32:35.715403Z",
     "start_time": "2024-09-10T12:32:34.630056Z"
    }
   },
   "outputs": [
    {
     "data": {
      "text/plain": [
       "<Axes: ylabel='count'>"
      ]
     },
     "execution_count": 47,
     "metadata": {},
     "output_type": "execute_result"
    },
    {
     "data": {
      "image/png": "[encoded data removed]",
      "text/plain": [
       "<Figure size 640x480 with 1 Axes>"
      ]
     },
     "metadata": {},
     "output_type": "display_data"
    }
   ],
   "source": [
    "df['facing'].value_counts().plot(kind='pie',autopct='%0.2f%%')"
   ]
  },
  {
   "cell_type": "code",
   "execution_count": 48,
   "id": "8859cf4a",
   "metadata": {
    "ExecuteTime": {
     "end_time": "2024-09-10T12:32:35.747828Z",
     "start_time": "2024-09-10T12:32:35.731384Z"
    }
   },
   "outputs": [],
   "source": [
    "df.drop(columns=['facing'],inplace=True)"
   ]
  },
  {
   "cell_type": "code",
   "execution_count": 49,
   "id": "e710ecc9",
   "metadata": {
    "ExecuteTime": {
     "end_time": "2024-09-10T12:32:36.686414Z",
     "start_time": "2024-09-10T12:32:35.758805Z"
    }
   },
   "outputs": [
    {
     "data": {
      "text/html": [
       "<div>\n",
       "<style scoped>\n",
       "    .dataframe tbody tr th:only-of-type {\n",
       "        vertical-align: middle;\n",
       "    }\n",
       "\n",
       "    .dataframe tbody tr th {\n",
       "        vertical-align: top;\n",
       "    }\n",
       "\n",
       "    .dataframe thead th {\n",
       "        text-align: right;\n",
       "    }\n",
       "</style>\n",
       "<table border=\"1\" class=\"dataframe\">\n",
       "  <thead>\n",
       "    <tr style=\"text-align: right;\">\n",
       "      <th></th>\n",
       "      <th>property_type</th>\n",
       "      <th>society</th>\n",
       "      <th>sector</th>\n",
       "      <th>price</th>\n",
       "      <th>price_per_sqrt</th>\n",
       "      <th>bedRoom</th>\n",
       "      <th>bathroom</th>\n",
       "      <th>balcony</th>\n",
       "      <th>floorNum</th>\n",
       "      <th>agePossession</th>\n",
       "      <th>built_up_area</th>\n",
       "      <th>study room</th>\n",
       "      <th>servant room</th>\n",
       "      <th>store room</th>\n",
       "      <th>pooja room</th>\n",
       "      <th>others</th>\n",
       "      <th>furnishing_type</th>\n",
       "      <th>luxury_score</th>\n",
       "    </tr>\n",
       "  </thead>\n",
       "  <tbody>\n",
       "    <tr>\n",
       "      <th>0</th>\n",
       "      <td>falt</td>\n",
       "      <td>dlf park place</td>\n",
       "      <td>sector 54</td>\n",
       "      <td>5.75</td>\n",
       "      <td>24689.0</td>\n",
       "      <td>3</td>\n",
       "      <td>4</td>\n",
       "      <td>3</td>\n",
       "      <td>12.0</td>\n",
       "      <td>Relatively New</td>\n",
       "      <td>2329.0</td>\n",
       "      <td>0</td>\n",
       "      <td>1</td>\n",
       "      <td>0</td>\n",
       "      <td>0</td>\n",
       "      <td>0</td>\n",
       "      <td>2</td>\n",
       "      <td>174</td>\n",
       "    </tr>\n",
       "    <tr>\n",
       "      <th>1</th>\n",
       "      <td>falt</td>\n",
       "      <td>palam vihar society</td>\n",
       "      <td>sector 2</td>\n",
       "      <td>3.35</td>\n",
       "      <td>7444.0</td>\n",
       "      <td>4</td>\n",
       "      <td>4</td>\n",
       "      <td>3+</td>\n",
       "      <td>2.0</td>\n",
       "      <td>New Property</td>\n",
       "      <td>5000.0</td>\n",
       "      <td>1</td>\n",
       "      <td>0</td>\n",
       "      <td>0</td>\n",
       "      <td>0</td>\n",
       "      <td>0</td>\n",
       "      <td>1</td>\n",
       "      <td>66</td>\n",
       "    </tr>\n",
       "    <tr>\n",
       "      <th>2</th>\n",
       "      <td>falt</td>\n",
       "      <td>tulip violet</td>\n",
       "      <td>sector 69</td>\n",
       "      <td>1.40</td>\n",
       "      <td>8856.0</td>\n",
       "      <td>3</td>\n",
       "      <td>3</td>\n",
       "      <td>2</td>\n",
       "      <td>9.0</td>\n",
       "      <td>Relatively New</td>\n",
       "      <td>1428.0</td>\n",
       "      <td>0</td>\n",
       "      <td>0</td>\n",
       "      <td>0</td>\n",
       "      <td>1</td>\n",
       "      <td>0</td>\n",
       "      <td>1</td>\n",
       "      <td>120</td>\n",
       "    </tr>\n",
       "    <tr>\n",
       "      <th>3</th>\n",
       "      <td>falt</td>\n",
       "      <td>m3m golf hills phase 1</td>\n",
       "      <td>sector 79</td>\n",
       "      <td>1.70</td>\n",
       "      <td>10828.0</td>\n",
       "      <td>3</td>\n",
       "      <td>2</td>\n",
       "      <td>3</td>\n",
       "      <td>10.0</td>\n",
       "      <td>Undefined</td>\n",
       "      <td>1570.0</td>\n",
       "      <td>0</td>\n",
       "      <td>0</td>\n",
       "      <td>0</td>\n",
       "      <td>0</td>\n",
       "      <td>0</td>\n",
       "      <td>1</td>\n",
       "      <td>0</td>\n",
       "    </tr>\n",
       "    <tr>\n",
       "      <th>4</th>\n",
       "      <td>falt</td>\n",
       "      <td>godrej nature plus</td>\n",
       "      <td>sector 33</td>\n",
       "      <td>1.35</td>\n",
       "      <td>8670.0</td>\n",
       "      <td>3</td>\n",
       "      <td>2</td>\n",
       "      <td>3+</td>\n",
       "      <td>17.0</td>\n",
       "      <td>New Property</td>\n",
       "      <td>1409.0</td>\n",
       "      <td>0</td>\n",
       "      <td>0</td>\n",
       "      <td>0</td>\n",
       "      <td>0</td>\n",
       "      <td>0</td>\n",
       "      <td>1</td>\n",
       "      <td>38</td>\n",
       "    </tr>\n",
       "  </tbody>\n",
       "</table>\n",
       "</div>"
      ],
      "text/plain": [
       "  property_type                 society     sector  price  price_per_sqrt  \\\n",
       "0          falt          dlf park place  sector 54   5.75         24689.0   \n",
       "1          falt     palam vihar society   sector 2   3.35          7444.0   \n",
       "2          falt            tulip violet  sector 69   1.40          8856.0   \n",
       "3          falt  m3m golf hills phase 1  sector 79   1.70         10828.0   \n",
       "4          falt      godrej nature plus  sector 33   1.35          8670.0   \n",
       "\n",
       "   bedRoom  bathroom balcony  floorNum   agePossession  built_up_area  \\\n",
       "0        3         4       3      12.0  Relatively New         2329.0   \n",
       "1        4         4      3+       2.0    New Property         5000.0   \n",
       "2        3         3       2       9.0  Relatively New         1428.0   \n",
       "3        3         2       3      10.0       Undefined         1570.0   \n",
       "4        3         2      3+      17.0    New Property         1409.0   \n",
       "\n",
       "   study room  servant room  store room  pooja room  others  furnishing_type  \\\n",
       "0           0             1           0           0       0                2   \n",
       "1           1             0           0           0       0                1   \n",
       "2           0             0           0           1       0                1   \n",
       "3           0             0           0           0       0                1   \n",
       "4           0             0           0           0       0                1   \n",
       "\n",
       "   luxury_score  \n",
       "0           174  \n",
       "1            66  \n",
       "2           120  \n",
       "3             0  \n",
       "4            38  "
      ]
     },
     "execution_count": 49,
     "metadata": {},
     "output_type": "execute_result"
    }
   ],
   "source": [
    "df.head()"
   ]
  },
  {
   "cell_type": "code",
   "execution_count": 50,
   "id": "dc313e93",
   "metadata": {
    "ExecuteTime": {
     "end_time": "2024-09-10T12:32:37.023761Z",
     "start_time": "2024-09-10T12:32:36.697390Z"
    }
   },
   "outputs": [
    {
     "data": {
      "text/plain": [
       "(3556, 18)"
      ]
     },
     "execution_count": 50,
     "metadata": {},
     "output_type": "execute_result"
    }
   ],
   "source": [
    "df.shape"
   ]
  },
  {
   "cell_type": "code",
   "execution_count": 51,
   "id": "4c4ac21d",
   "metadata": {
    "ExecuteTime": {
     "end_time": "2024-09-10T12:32:37.657285Z",
     "start_time": "2024-09-10T12:32:37.052691Z"
    }
   },
   "outputs": [
    {
     "data": {
      "text/html": [
       "<div>\n",
       "<style scoped>\n",
       "    .dataframe tbody tr th:only-of-type {\n",
       "        vertical-align: middle;\n",
       "    }\n",
       "\n",
       "    .dataframe tbody tr th {\n",
       "        vertical-align: top;\n",
       "    }\n",
       "\n",
       "    .dataframe thead th {\n",
       "        text-align: right;\n",
       "    }\n",
       "</style>\n",
       "<table border=\"1\" class=\"dataframe\">\n",
       "  <thead>\n",
       "    <tr style=\"text-align: right;\">\n",
       "      <th></th>\n",
       "      <th>property_type</th>\n",
       "      <th>society</th>\n",
       "      <th>sector</th>\n",
       "      <th>price</th>\n",
       "      <th>price_per_sqrt</th>\n",
       "      <th>bedRoom</th>\n",
       "      <th>bathroom</th>\n",
       "      <th>balcony</th>\n",
       "      <th>floorNum</th>\n",
       "      <th>agePossession</th>\n",
       "      <th>built_up_area</th>\n",
       "      <th>study room</th>\n",
       "      <th>servant room</th>\n",
       "      <th>store room</th>\n",
       "      <th>pooja room</th>\n",
       "      <th>others</th>\n",
       "      <th>furnishing_type</th>\n",
       "      <th>luxury_score</th>\n",
       "    </tr>\n",
       "  </thead>\n",
       "  <tbody>\n",
       "    <tr>\n",
       "      <th>107</th>\n",
       "      <td>falt</td>\n",
       "      <td>NaN</td>\n",
       "      <td>sector 78</td>\n",
       "      <td>0.6</td>\n",
       "      <td>3692.0</td>\n",
       "      <td>2</td>\n",
       "      <td>2</td>\n",
       "      <td>0</td>\n",
       "      <td>2.0</td>\n",
       "      <td>Under Construction</td>\n",
       "      <td>1625.0</td>\n",
       "      <td>0</td>\n",
       "      <td>0</td>\n",
       "      <td>0</td>\n",
       "      <td>0</td>\n",
       "      <td>0</td>\n",
       "      <td>1</td>\n",
       "      <td>0</td>\n",
       "    </tr>\n",
       "  </tbody>\n",
       "</table>\n",
       "</div>"
      ],
      "text/plain": [
       "    property_type society     sector  price  price_per_sqrt  bedRoom  \\\n",
       "107          falt     NaN  sector 78    0.6          3692.0        2   \n",
       "\n",
       "     bathroom balcony  floorNum       agePossession  built_up_area  \\\n",
       "107         2       0       2.0  Under Construction         1625.0   \n",
       "\n",
       "     study room  servant room  store room  pooja room  others  \\\n",
       "107           0             0           0           0       0   \n",
       "\n",
       "     furnishing_type  luxury_score  \n",
       "107                1             0  "
      ]
     },
     "execution_count": 51,
     "metadata": {},
     "output_type": "execute_result"
    }
   ],
   "source": [
    "df[df['society'].isnull()]"
   ]
  },
  {
   "cell_type": "code",
   "execution_count": 52,
   "id": "cd16f653",
   "metadata": {
    "ExecuteTime": {
     "end_time": "2024-09-10T12:32:37.913129Z",
     "start_time": "2024-09-10T12:32:37.663311Z"
    }
   },
   "outputs": [],
   "source": [
    "df.drop(index=[107],inplace=True)"
   ]
  },
  {
   "cell_type": "code",
   "execution_count": 53,
   "id": "c45ac14b",
   "metadata": {
    "ExecuteTime": {
     "end_time": "2024-09-10T12:32:38.139892Z",
     "start_time": "2024-09-10T12:32:37.927100Z"
    }
   },
   "outputs": [
    {
     "data": {
      "text/plain": [
       "property_type      0\n",
       "society            0\n",
       "sector             0\n",
       "price              0\n",
       "price_per_sqrt     0\n",
       "bedRoom            0\n",
       "bathroom           0\n",
       "balcony            0\n",
       "floorNum           0\n",
       "agePossession      0\n",
       "built_up_area      0\n",
       "study room         0\n",
       "servant room       0\n",
       "store room         0\n",
       "pooja room         0\n",
       "others             0\n",
       "furnishing_type    0\n",
       "luxury_score       0\n",
       "dtype: int64"
      ]
     },
     "execution_count": 53,
     "metadata": {},
     "output_type": "execute_result"
    }
   ],
   "source": [
    "df.isnull().sum()"
   ]
  },
  {
   "cell_type": "markdown",
   "id": "e6658854",
   "metadata": {},
   "source": [
    "# agePossession"
   ]
  },
  {
   "cell_type": "code",
   "execution_count": 54,
   "id": "13ba69fd",
   "metadata": {
    "ExecuteTime": {
     "end_time": "2024-09-10T12:32:38.260927Z",
     "start_time": "2024-09-10T12:32:38.148878Z"
    }
   },
   "outputs": [
    {
     "data": {
      "text/plain": [
       "agePossession\n",
       "Relatively New        1606\n",
       "New Property           558\n",
       "Moderately Old         545\n",
       "Undefined              430\n",
       "Old Property           293\n",
       "Under Construction     123\n",
       "Name: count, dtype: int64"
      ]
     },
     "execution_count": 54,
     "metadata": {},
     "output_type": "execute_result"
    }
   ],
   "source": [
    "df['agePossession'].value_counts()"
   ]
  },
  {
   "cell_type": "code",
   "execution_count": 55,
   "id": "df4a8ba0",
   "metadata": {
    "ExecuteTime": {
     "end_time": "2024-09-10T12:32:38.573451Z",
     "start_time": "2024-09-10T12:32:38.266791Z"
    }
   },
   "outputs": [
    {
     "data": {
      "text/html": [
       "<div>\n",
       "<style scoped>\n",
       "    .dataframe tbody tr th:only-of-type {\n",
       "        vertical-align: middle;\n",
       "    }\n",
       "\n",
       "    .dataframe tbody tr th {\n",
       "        vertical-align: top;\n",
       "    }\n",
       "\n",
       "    .dataframe thead th {\n",
       "        text-align: right;\n",
       "    }\n",
       "</style>\n",
       "<table border=\"1\" class=\"dataframe\">\n",
       "  <thead>\n",
       "    <tr style=\"text-align: right;\">\n",
       "      <th></th>\n",
       "      <th>property_type</th>\n",
       "      <th>society</th>\n",
       "      <th>sector</th>\n",
       "      <th>price</th>\n",
       "      <th>price_per_sqrt</th>\n",
       "      <th>bedRoom</th>\n",
       "      <th>bathroom</th>\n",
       "      <th>balcony</th>\n",
       "      <th>floorNum</th>\n",
       "      <th>agePossession</th>\n",
       "      <th>built_up_area</th>\n",
       "      <th>study room</th>\n",
       "      <th>servant room</th>\n",
       "      <th>store room</th>\n",
       "      <th>pooja room</th>\n",
       "      <th>others</th>\n",
       "      <th>furnishing_type</th>\n",
       "      <th>luxury_score</th>\n",
       "    </tr>\n",
       "  </thead>\n",
       "  <tbody>\n",
       "    <tr>\n",
       "      <th>3</th>\n",
       "      <td>falt</td>\n",
       "      <td>m3m golf hills phase 1</td>\n",
       "      <td>sector 79</td>\n",
       "      <td>1.70</td>\n",
       "      <td>10828.0</td>\n",
       "      <td>3</td>\n",
       "      <td>2</td>\n",
       "      <td>3</td>\n",
       "      <td>10.0</td>\n",
       "      <td>Undefined</td>\n",
       "      <td>1570.0</td>\n",
       "      <td>0</td>\n",
       "      <td>0</td>\n",
       "      <td>0</td>\n",
       "      <td>0</td>\n",
       "      <td>0</td>\n",
       "      <td>1</td>\n",
       "      <td>0</td>\n",
       "    </tr>\n",
       "    <tr>\n",
       "      <th>23</th>\n",
       "      <td>falt</td>\n",
       "      <td>whiteland the aspen</td>\n",
       "      <td>sector 76</td>\n",
       "      <td>3.35</td>\n",
       "      <td>17615.0</td>\n",
       "      <td>3</td>\n",
       "      <td>4</td>\n",
       "      <td>3+</td>\n",
       "      <td>5.0</td>\n",
       "      <td>Undefined</td>\n",
       "      <td>2111.0</td>\n",
       "      <td>0</td>\n",
       "      <td>1</td>\n",
       "      <td>0</td>\n",
       "      <td>0</td>\n",
       "      <td>0</td>\n",
       "      <td>2</td>\n",
       "      <td>151</td>\n",
       "    </tr>\n",
       "    <tr>\n",
       "      <th>35</th>\n",
       "      <td>falt</td>\n",
       "      <td>dlf garden city floors</td>\n",
       "      <td>sector 92</td>\n",
       "      <td>1.70</td>\n",
       "      <td>8588.0</td>\n",
       "      <td>3</td>\n",
       "      <td>4</td>\n",
       "      <td>2</td>\n",
       "      <td>1.0</td>\n",
       "      <td>Undefined</td>\n",
       "      <td>1475.0</td>\n",
       "      <td>0</td>\n",
       "      <td>0</td>\n",
       "      <td>0</td>\n",
       "      <td>0</td>\n",
       "      <td>0</td>\n",
       "      <td>1</td>\n",
       "      <td>63</td>\n",
       "    </tr>\n",
       "    <tr>\n",
       "      <th>52</th>\n",
       "      <td>falt</td>\n",
       "      <td>signature global city</td>\n",
       "      <td>sector 37d</td>\n",
       "      <td>1.10</td>\n",
       "      <td>8494.0</td>\n",
       "      <td>3</td>\n",
       "      <td>3</td>\n",
       "      <td>2</td>\n",
       "      <td>2.0</td>\n",
       "      <td>Undefined</td>\n",
       "      <td>1439.0</td>\n",
       "      <td>0</td>\n",
       "      <td>0</td>\n",
       "      <td>0</td>\n",
       "      <td>0</td>\n",
       "      <td>0</td>\n",
       "      <td>1</td>\n",
       "      <td>36</td>\n",
       "    </tr>\n",
       "    <tr>\n",
       "      <th>59</th>\n",
       "      <td>falt</td>\n",
       "      <td>signature global city 37d ph 2</td>\n",
       "      <td>sector 37d</td>\n",
       "      <td>1.07</td>\n",
       "      <td>8237.0</td>\n",
       "      <td>3</td>\n",
       "      <td>3</td>\n",
       "      <td>2</td>\n",
       "      <td>2.0</td>\n",
       "      <td>Undefined</td>\n",
       "      <td>1450.0</td>\n",
       "      <td>0</td>\n",
       "      <td>0</td>\n",
       "      <td>0</td>\n",
       "      <td>0</td>\n",
       "      <td>0</td>\n",
       "      <td>1</td>\n",
       "      <td>86</td>\n",
       "    </tr>\n",
       "    <tr>\n",
       "      <th>...</th>\n",
       "      <td>...</td>\n",
       "      <td>...</td>\n",
       "      <td>...</td>\n",
       "      <td>...</td>\n",
       "      <td>...</td>\n",
       "      <td>...</td>\n",
       "      <td>...</td>\n",
       "      <td>...</td>\n",
       "      <td>...</td>\n",
       "      <td>...</td>\n",
       "      <td>...</td>\n",
       "      <td>...</td>\n",
       "      <td>...</td>\n",
       "      <td>...</td>\n",
       "      <td>...</td>\n",
       "      <td>...</td>\n",
       "      <td>...</td>\n",
       "      <td>...</td>\n",
       "    </tr>\n",
       "    <tr>\n",
       "      <th>3538</th>\n",
       "      <td>house</td>\n",
       "      <td>unitech uniworld resorts</td>\n",
       "      <td>sector 33</td>\n",
       "      <td>9.50</td>\n",
       "      <td>23333.0</td>\n",
       "      <td>5</td>\n",
       "      <td>7</td>\n",
       "      <td>3+</td>\n",
       "      <td>2.0</td>\n",
       "      <td>Undefined</td>\n",
       "      <td>4071.0</td>\n",
       "      <td>1</td>\n",
       "      <td>1</td>\n",
       "      <td>1</td>\n",
       "      <td>1</td>\n",
       "      <td>0</td>\n",
       "      <td>1</td>\n",
       "      <td>57</td>\n",
       "    </tr>\n",
       "    <tr>\n",
       "      <th>3539</th>\n",
       "      <td>falt</td>\n",
       "      <td>dnha cghs</td>\n",
       "      <td>sector 1</td>\n",
       "      <td>0.85</td>\n",
       "      <td>3864.0</td>\n",
       "      <td>3</td>\n",
       "      <td>3</td>\n",
       "      <td>0</td>\n",
       "      <td>5.0</td>\n",
       "      <td>Undefined</td>\n",
       "      <td>2200.0</td>\n",
       "      <td>0</td>\n",
       "      <td>0</td>\n",
       "      <td>0</td>\n",
       "      <td>0</td>\n",
       "      <td>0</td>\n",
       "      <td>1</td>\n",
       "      <td>0</td>\n",
       "    </tr>\n",
       "    <tr>\n",
       "      <th>3545</th>\n",
       "      <td>falt</td>\n",
       "      <td>m3m heights</td>\n",
       "      <td>sector 65</td>\n",
       "      <td>2.25</td>\n",
       "      <td>13608.0</td>\n",
       "      <td>2</td>\n",
       "      <td>2</td>\n",
       "      <td>3</td>\n",
       "      <td>5.0</td>\n",
       "      <td>Undefined</td>\n",
       "      <td>1592.0</td>\n",
       "      <td>0</td>\n",
       "      <td>0</td>\n",
       "      <td>0</td>\n",
       "      <td>0</td>\n",
       "      <td>0</td>\n",
       "      <td>1</td>\n",
       "      <td>48</td>\n",
       "    </tr>\n",
       "    <tr>\n",
       "      <th>3553</th>\n",
       "      <td>house</td>\n",
       "      <td>bhim nagar society</td>\n",
       "      <td>sector 6</td>\n",
       "      <td>0.40</td>\n",
       "      <td>2500.0</td>\n",
       "      <td>4</td>\n",
       "      <td>2</td>\n",
       "      <td>2</td>\n",
       "      <td>1.0</td>\n",
       "      <td>Undefined</td>\n",
       "      <td>1600.0</td>\n",
       "      <td>0</td>\n",
       "      <td>0</td>\n",
       "      <td>0</td>\n",
       "      <td>0</td>\n",
       "      <td>0</td>\n",
       "      <td>1</td>\n",
       "      <td>0</td>\n",
       "    </tr>\n",
       "    <tr>\n",
       "      <th>3554</th>\n",
       "      <td>falt</td>\n",
       "      <td>m3m soulitude</td>\n",
       "      <td>sector 89</td>\n",
       "      <td>1.28</td>\n",
       "      <td>8827.0</td>\n",
       "      <td>3</td>\n",
       "      <td>3</td>\n",
       "      <td>2</td>\n",
       "      <td>4.0</td>\n",
       "      <td>Undefined</td>\n",
       "      <td>1611.0</td>\n",
       "      <td>1</td>\n",
       "      <td>0</td>\n",
       "      <td>0</td>\n",
       "      <td>0</td>\n",
       "      <td>0</td>\n",
       "      <td>1</td>\n",
       "      <td>114</td>\n",
       "    </tr>\n",
       "  </tbody>\n",
       "</table>\n",
       "<p>430 rows × 18 columns</p>\n",
       "</div>"
      ],
      "text/plain": [
       "     property_type                         society      sector  price  \\\n",
       "3             falt          m3m golf hills phase 1   sector 79   1.70   \n",
       "23            falt             whiteland the aspen   sector 76   3.35   \n",
       "35            falt          dlf garden city floors   sector 92   1.70   \n",
       "52            falt           signature global city  sector 37d   1.10   \n",
       "59            falt  signature global city 37d ph 2  sector 37d   1.07   \n",
       "...            ...                             ...         ...    ...   \n",
       "3538         house        unitech uniworld resorts   sector 33   9.50   \n",
       "3539          falt                       dnha cghs    sector 1   0.85   \n",
       "3545          falt                     m3m heights   sector 65   2.25   \n",
       "3553         house              bhim nagar society    sector 6   0.40   \n",
       "3554          falt                   m3m soulitude   sector 89   1.28   \n",
       "\n",
       "      price_per_sqrt  bedRoom  bathroom balcony  floorNum agePossession  \\\n",
       "3            10828.0        3         2       3      10.0     Undefined   \n",
       "23           17615.0        3         4      3+       5.0     Undefined   \n",
       "35            8588.0        3         4       2       1.0     Undefined   \n",
       "52            8494.0        3         3       2       2.0     Undefined   \n",
       "59            8237.0        3         3       2       2.0     Undefined   \n",
       "...              ...      ...       ...     ...       ...           ...   \n",
       "3538         23333.0        5         7      3+       2.0     Undefined   \n",
       "3539          3864.0        3         3       0       5.0     Undefined   \n",
       "3545         13608.0        2         2       3       5.0     Undefined   \n",
       "3553          2500.0        4         2       2       1.0     Undefined   \n",
       "3554          8827.0        3         3       2       4.0     Undefined   \n",
       "\n",
       "      built_up_area  study room  servant room  store room  pooja room  others  \\\n",
       "3            1570.0           0             0           0           0       0   \n",
       "23           2111.0           0             1           0           0       0   \n",
       "35           1475.0           0             0           0           0       0   \n",
       "52           1439.0           0             0           0           0       0   \n",
       "59           1450.0           0             0           0           0       0   \n",
       "...             ...         ...           ...         ...         ...     ...   \n",
       "3538         4071.0           1             1           1           1       0   \n",
       "3539         2200.0           0             0           0           0       0   \n",
       "3545         1592.0           0             0           0           0       0   \n",
       "3553         1600.0           0             0           0           0       0   \n",
       "3554         1611.0           1             0           0           0       0   \n",
       "\n",
       "      furnishing_type  luxury_score  \n",
       "3                   1             0  \n",
       "23                  2           151  \n",
       "35                  1            63  \n",
       "52                  1            36  \n",
       "59                  1            86  \n",
       "...               ...           ...  \n",
       "3538                1            57  \n",
       "3539                1             0  \n",
       "3545                1            48  \n",
       "3553                1             0  \n",
       "3554                1           114  \n",
       "\n",
       "[430 rows x 18 columns]"
      ]
     },
     "execution_count": 55,
     "metadata": {},
     "output_type": "execute_result"
    }
   ],
   "source": [
    "df[df['agePossession'] == 'Undefined']"
   ]
  },
  {
   "cell_type": "code",
   "execution_count": 65,
   "id": "78dd27f6",
   "metadata": {
    "ExecuteTime": {
     "end_time": "2024-09-10T12:51:03.982235Z",
     "start_time": "2024-09-10T12:51:03.971092Z"
    }
   },
   "outputs": [],
   "source": [
    "def mode_based_imputation(row):\n",
    "    if row['agePossession'] == 'Undefined':\n",
    "        mode_value = df[(df['sector'] == row['sector']) & (df['property_type'] == row['property_type'])]['agePossession'].mode()\n",
    "        # If mode_value is empty (no mode found), return NaN, otherwise return the mode\n",
    "        if not mode_value.empty:\n",
    "            return mode_value.iloc[0] \n",
    "        else:\n",
    "            return np.nan\n",
    "    else:\n",
    "        return row['agePossession']"
   ]
  },
  {
   "cell_type": "code",
   "execution_count": 66,
   "id": "a129afd5",
   "metadata": {
    "ExecuteTime": {
     "end_time": "2024-09-10T12:51:14.354809Z",
     "start_time": "2024-09-10T12:51:12.547979Z"
    }
   },
   "outputs": [],
   "source": [
    "df['agePossession'] = df.apply(mode_based_imputation,axis=1)"
   ]
  },
  {
   "cell_type": "code",
   "execution_count": 67,
   "id": "cd590747",
   "metadata": {
    "ExecuteTime": {
     "end_time": "2024-09-10T12:52:05.748332Z",
     "start_time": "2024-09-10T12:52:05.420163Z"
    }
   },
   "outputs": [
    {
     "data": {
      "text/plain": [
       "agePossession\n",
       "Relatively New        1785\n",
       "New Property           635\n",
       "Moderately Old         586\n",
       "Old Property           330\n",
       "Under Construction     125\n",
       "Undefined               94\n",
       "Name: count, dtype: int64"
      ]
     },
     "execution_count": 67,
     "metadata": {},
     "output_type": "execute_result"
    }
   ],
   "source": [
    "df['agePossession'].value_counts()"
   ]
  },
  {
   "cell_type": "code",
   "execution_count": 68,
   "id": "a1a11ddb",
   "metadata": {
    "ExecuteTime": {
     "end_time": "2024-09-10T12:52:39.979453Z",
     "start_time": "2024-09-10T12:52:39.969983Z"
    }
   },
   "outputs": [],
   "source": [
    "def mode_based_imputation2(row):\n",
    "    if row['agePossession'] == 'Undefined':\n",
    "        mode_value = df[(df['sector'] == row['sector'])]['agePossession'].mode()\n",
    "        # If mode_value is empty (no mode found), return NaN, otherwise return the mode\n",
    "        if not mode_value.empty:\n",
    "            return mode_value.iloc[0] \n",
    "        else:\n",
    "            return np.nan\n",
    "    else:\n",
    "        return row['agePossession']"
   ]
  },
  {
   "cell_type": "code",
   "execution_count": 69,
   "id": "01b50c8b",
   "metadata": {
    "ExecuteTime": {
     "end_time": "2024-09-10T12:52:49.648929Z",
     "start_time": "2024-09-10T12:52:49.449031Z"
    }
   },
   "outputs": [],
   "source": [
    "df['agePossession'] = df.apply(mode_based_imputation2,axis=1)"
   ]
  },
  {
   "cell_type": "code",
   "execution_count": 70,
   "id": "1487a8c4",
   "metadata": {
    "ExecuteTime": {
     "end_time": "2024-09-10T12:52:57.448885Z",
     "start_time": "2024-09-10T12:52:57.434462Z"
    }
   },
   "outputs": [
    {
     "data": {
      "text/plain": [
       "agePossession\n",
       "Relatively New        1801\n",
       "New Property           661\n",
       "Moderately Old         593\n",
       "Old Property           341\n",
       "Under Construction     125\n",
       "Undefined               34\n",
       "Name: count, dtype: int64"
      ]
     },
     "execution_count": 70,
     "metadata": {},
     "output_type": "execute_result"
    }
   ],
   "source": [
    "df['agePossession'].value_counts()"
   ]
  },
  {
   "cell_type": "code",
   "execution_count": 71,
   "id": "79fafcf9",
   "metadata": {
    "ExecuteTime": {
     "end_time": "2024-09-10T12:54:13.557498Z",
     "start_time": "2024-09-10T12:54:13.549001Z"
    }
   },
   "outputs": [],
   "source": [
    "def mode_based_imputation3(row):\n",
    "    if row['agePossession'] == 'Undefined':\n",
    "        mode_value = df[(df['property_type'] == row['property_type'])]['agePossession'].mode()\n",
    "        # If mode_value is empty (no mode found), return NaN, otherwise return the mode\n",
    "        if not mode_value.empty:\n",
    "            return mode_value.iloc[0] \n",
    "        else:\n",
    "            return np.nan\n",
    "    else:\n",
    "        return row['agePossession']"
   ]
  },
  {
   "cell_type": "code",
   "execution_count": 72,
   "id": "35447001",
   "metadata": {
    "ExecuteTime": {
     "end_time": "2024-09-10T12:54:28.511672Z",
     "start_time": "2024-09-10T12:54:28.315889Z"
    }
   },
   "outputs": [],
   "source": [
    "df['agePossession'] = df.apply(mode_based_imputation3,axis=1)"
   ]
  },
  {
   "cell_type": "code",
   "execution_count": 73,
   "id": "cb6665bb",
   "metadata": {
    "ExecuteTime": {
     "end_time": "2024-09-10T12:54:35.828989Z",
     "start_time": "2024-09-10T12:54:35.788750Z"
    }
   },
   "outputs": [
    {
     "data": {
      "text/plain": [
       "agePossession\n",
       "Relatively New        1812\n",
       "New Property           661\n",
       "Moderately Old         616\n",
       "Old Property           341\n",
       "Under Construction     125\n",
       "Name: count, dtype: int64"
      ]
     },
     "execution_count": 73,
     "metadata": {},
     "output_type": "execute_result"
    }
   ],
   "source": [
    "df['agePossession'].value_counts()"
   ]
  },
  {
   "cell_type": "code",
   "execution_count": 74,
   "id": "704f1d82",
   "metadata": {
    "ExecuteTime": {
     "end_time": "2024-09-10T12:55:16.005214Z",
     "start_time": "2024-09-10T12:55:15.646669Z"
    }
   },
   "outputs": [
    {
     "data": {
      "text/plain": [
       "property_type      0\n",
       "society            0\n",
       "sector             0\n",
       "price              0\n",
       "price_per_sqrt     0\n",
       "bedRoom            0\n",
       "bathroom           0\n",
       "balcony            0\n",
       "floorNum           0\n",
       "agePossession      0\n",
       "built_up_area      0\n",
       "study room         0\n",
       "servant room       0\n",
       "store room         0\n",
       "pooja room         0\n",
       "others             0\n",
       "furnishing_type    0\n",
       "luxury_score       0\n",
       "dtype: int64"
      ]
     },
     "execution_count": 74,
     "metadata": {},
     "output_type": "execute_result"
    }
   ],
   "source": [
    "df.isnull().sum()"
   ]
  },
  {
   "cell_type": "code",
   "execution_count": 75,
   "id": "4506f63b",
   "metadata": {
    "ExecuteTime": {
     "end_time": "2024-09-10T12:55:38.838517Z",
     "start_time": "2024-09-10T12:55:37.330530Z"
    }
   },
   "outputs": [],
   "source": [
    "df.to_csv('gurgaon_properties_missing_value_imputation.csv',index=False)"
   ]
  },
  {
   "cell_type": "code",
   "execution_count": null,
   "id": "5cf633d9",
   "metadata": {},
   "outputs": [],
   "source": []
  }
 ],
 "metadata": {
  "kernelspec": {
   "display_name": "Python 3 (ipykernel)",
   "language": "python",
   "name": "python3"
  },
  "language_info": {
   "codemirror_mode": {
    "name": "ipython",
    "version": 3
   },
   "file_extension": ".py",
   "mimetype": "text/x-python",
   "name": "python",
   "nbconvert_exporter": "python",
   "pygments_lexer": "ipython3",
   "version": "3.11.5"
  },
  "toc": {
   "base_numbering": 1,
   "nav_menu": {},
   "number_sections": true,
   "sideBar": true,
   "skip_h1_title": false,
   "title_cell": "Table of Contents",
   "title_sidebar": "Contents",
   "toc_cell": false,
   "toc_position": {},
   "toc_section_display": true,
   "toc_window_display": false
  }
 },
 "nbformat": 4,
 "nbformat_minor": 5
}
